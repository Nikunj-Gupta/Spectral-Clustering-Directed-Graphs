{
 "cells": [
  {
   "cell_type": "code",
   "execution_count": 1,
   "id": "56dfb747",
   "metadata": {},
   "outputs": [],
   "source": [
    "import pandas as pd, numpy as np, matplotlib.pyplot as plt, networkx as nx \n",
    "from sklearn.cluster import KMeans "
   ]
  },
  {
   "cell_type": "code",
   "execution_count": 2,
   "id": "3fc1e089",
   "metadata": {},
   "outputs": [],
   "source": [
    "\"\"\"\n",
    "Spectral Clustering (Un-Normalized/Normalized)\n",
    "\n",
    "A: Adjacency matrix \n",
    "k: n_clusters \n",
    "\n",
    "\"\"\"\n",
    "\n",
    "def spectral_clustering(G, k=10, directed=False, normalization=False): \n",
    "    if directed: \n",
    "        L = nx.directed_laplacian_matrix(G)         \n",
    "    else: \n",
    "        if normalization: L = nx.laplacian_matrix(G).toarray() \n",
    "        else:             L = nx.normalized_laplacian_matrix(G).toarray() \n",
    "    \n",
    "    vals, vecs = np.linalg.eig(L) \n",
    "    vecs = vecs[:,np.argsort(vals)] \n",
    "    vals = vals[np.argsort(vals)] \n",
    "    \n",
    "    kmeans = KMeans(n_clusters=k)\n",
    "    kmeans.fit(vecs[:,1:k])\n",
    "    clusters = kmeans.labels_\n",
    "    best_cut = vecs[:,1] > 0 \n",
    "    \n",
    "    return clusters, best_cut "
   ]
  },
  {
   "cell_type": "code",
   "execution_count": 3,
   "id": "76783117",
   "metadata": {},
   "outputs": [],
   "source": [
    "from get_graph_from_data import get_graph, draw  \n",
    "G_di, A_di, G_un, A_un = get_graph(data=pd.read_csv('archive/chicago_taxi_trips_2016_11.csv'), head=True) \n",
    "# draw(G_di) \n",
    "# draw(G_un) "
   ]
  },
  {
   "cell_type": "code",
   "execution_count": 4,
   "id": "6055bc3d",
   "metadata": {
    "scrolled": false
   },
   "outputs": [
    {
     "name": "stderr",
     "output_type": "stream",
     "text": [
      "<class 'networkx.utils.decorators.argmap'> compilation 9:5: FutureWarning: directed_laplacian_matrix will return a numpy array instead of a matrix in NetworkX 3.0\n",
      "/opt/homebrew/lib/python3.9/site-packages/sklearn/utils/validation.py:593: FutureWarning: np.matrix usage is deprecated in 1.0 and will raise a TypeError in 1.2. Please convert to a numpy array with np.asarray. For more information see: https://numpy.org/doc/stable/reference/generated/numpy.matrix.html\n",
      "  warnings.warn(\n"
     ]
    },
    {
     "data": {
      "text/plain": [
       "(array([2., 0., 0., 0., 0., 2., 0., 0., 0., 1.]),\n",
       " array([0. , 0.2, 0.4, 0.6, 0.8, 1. , 1.2, 1.4, 1.6, 1.8, 2. ]),\n",
       " <BarContainer object of 10 artists>)"
      ]
     },
     "execution_count": 4,
     "metadata": {},
     "output_type": "execute_result"
    },
    {
     "data": {
      "image/png": "[encoded data removed]",
      "text/plain": [
       "<Figure size 432x288 with 1 Axes>"
      ]
     },
     "metadata": {
      "needs_background": "light"
     },
     "output_type": "display_data"
    }
   ],
   "source": [
    "clusters, best_cut = spectral_clustering(G_di, k=3, normalization=False, directed=True) \n",
    "plt.hist(clusters)"
   ]
  },
  {
   "cell_type": "code",
   "execution_count": null,
   "id": "83d09c42",
   "metadata": {},
   "outputs": [],
   "source": []
  },
  {
   "cell_type": "code",
   "execution_count": 5,
   "id": "a07c3aeb",
   "metadata": {},
   "outputs": [],
   "source": [
    "\"\"\"\n",
    "Spectral Clustering (Un-Normalized/Normalized)\n",
    "\n",
    "A: Adjacency matrix \n",
    "k: n_clusters \n",
    "\n",
    "\"\"\"\n",
    "from scipy.linalg import sqrtm, inv\n",
    "\n",
    "def svd_spectral_clustering(A, d=3, k=3): \n",
    "    \n",
    "    u, s, vh = np.linalg.svd(A, full_matrices=False) \n",
    "    U, S, Vh = u[:,:d], s[:d], vh[:d,:] \n",
    "    L = U*S@Vh \n",
    "    Z1 = U@inv(sqrtm(np.diag(S)))\n",
    "    Z2 = (Vh.T)@inv(sqrtm(np.diag(S)))\n",
    "    Z = np.concatenate((Z1, Z2), axis=1)\n",
    "    print(Z)\n",
    "    \n",
    "    vals, vecs = np.linalg.eig(Z) \n",
    "    vecs = vecs[:,np.argsort(vals)] \n",
    "    vals = vals[np.argsort(vals)] \n",
    "    \n",
    "    kmeans = KMeans(n_clusters=k)\n",
    "    kmeans.fit(vecs[:,1:k])\n",
    "    clusters = kmeans.labels_\n",
    "    best_cut = vecs[:,1] > 0 \n",
    "    \n",
    "    return clusters, best_cut \n",
    "# svd_spectral_clustering(A_di)"
   ]
  },
  {
   "cell_type": "code",
   "execution_count": null,
   "id": "575c0645",
   "metadata": {},
   "outputs": [],
   "source": []
  },
  {
   "cell_type": "code",
   "execution_count": null,
   "id": "355cf007",
   "metadata": {},
   "outputs": [],
   "source": []
  },
  {
   "cell_type": "code",
   "execution_count": null,
   "id": "7f8d3fc5",
   "metadata": {},
   "outputs": [],
   "source": []
  },
  {
   "cell_type": "code",
   "execution_count": null,
   "id": "d3e69847",
   "metadata": {},
   "outputs": [],
   "source": []
  },
  {
   "cell_type": "code",
   "execution_count": null,
   "id": "2fd043b3",
   "metadata": {},
   "outputs": [],
   "source": []
  },
  {
   "cell_type": "code",
   "execution_count": null,
   "id": "46ab85ee",
   "metadata": {},
   "outputs": [],
   "source": []
  },
  {
   "cell_type": "code",
   "execution_count": null,
   "id": "9bd1ab2c",
   "metadata": {},
   "outputs": [],
   "source": []
  },
  {
   "cell_type": "code",
   "execution_count": 6,
   "id": "774c6f3e",
   "metadata": {},
   "outputs": [],
   "source": [
    "\"\"\"\n",
    "Spectral Clustering (Un-Normalized/Normalized)\n",
    "\n",
    "A: Adjacency matrix \n",
    "k: n_clusters \n",
    "\n",
    "\"\"\"\n",
    "def spectral_clustering(A, k=3, normalization=False, directed=False): \n",
    "    D = np.diag(A.sum(axis=1)) \n",
    "    # L = D-A \n",
    "    from scipy.sparse import csgraph \n",
    "    if directed: \n",
    "        L = csgraph.laplacian(A, normed=normalization) \n",
    "    \n",
    "    vals, vecs = np.linalg.eig(L) \n",
    "    vecs = vecs[:,np.argsort(vals)] \n",
    "    vals = vals[np.argsort(vals)] \n",
    "    \n",
    "    from sklearn.cluster import KMeans\n",
    "\n",
    "    kmeans = KMeans(n_clusters=k)\n",
    "    kmeans.fit(vecs[:,1:k])\n",
    "    clusters = kmeans.labels_\n",
    "    print(\"Clusters:\", clusters) \n",
    "    \n",
    "    best_cut = vecs[:,1] > 0 \n",
    "    \n",
    "    return clusters, best_cut "
   ]
  },
  {
   "cell_type": "code",
   "execution_count": 7,
   "id": "e9fe1cbc",
   "metadata": {},
   "outputs": [],
   "source": [
    "# clusters, best_cut = spectral_clustering(A_un, k=3, normalization=False) \n",
    "# plt.hist(clusters) "
   ]
  },
  {
   "cell_type": "code",
   "execution_count": 8,
   "id": "125324ce",
   "metadata": {},
   "outputs": [],
   "source": [
    "# clusters, best_cut = spectral_clustering(A_un, k=3, normalization=True) \n",
    "# plt.hist(clusters)"
   ]
  },
  {
   "cell_type": "code",
   "execution_count": 9,
   "id": "b3515c35",
   "metadata": {},
   "outputs": [
    {
     "data": {
      "text/plain": [
       "(array([1., 0., 0., 0., 0., 2., 0., 0., 0., 2.]),\n",
       " array([0. , 0.2, 0.4, 0.6, 0.8, 1. , 1.2, 1.4, 1.6, 1.8, 2. ]),\n",
       " <BarContainer object of 10 artists>)"
      ]
     },
     "execution_count": 9,
     "metadata": {},
     "output_type": "execute_result"
    },
    {
     "data": {
      "image/png": "[encoded data removed]",
      "text/plain": [
       "<Figure size 432x288 with 1 Axes>"
      ]
     },
     "metadata": {
      "needs_background": "light"
     },
     "output_type": "display_data"
    }
   ],
   "source": [
    "\"\"\"\n",
    "Spectral Clustering (Normalized; Sklearn)\n",
    "\n",
    "\"\"\"\n",
    "\n",
    "from sklearn.cluster import SpectralClustering \n",
    "sc = SpectralClustering(3, affinity='precomputed', n_init=100, assign_labels='discretize') \n",
    "\n",
    "# Undirected Graph \n",
    "clusters = sc.fit_predict(A_un)\n",
    "plt.hist(clusters) "
   ]
  },
  {
   "cell_type": "code",
   "execution_count": 10,
   "id": "b64baf96",
   "metadata": {},
   "outputs": [],
   "source": [
    "# # Directed Graph \n",
    "# clusters = sc.fit_predict(A_di) \n",
    "# plt.hist(clusters) "
   ]
  },
  {
   "cell_type": "code",
   "execution_count": 11,
   "id": "8bb28401",
   "metadata": {},
   "outputs": [
    {
     "data": {
      "text/plain": [
       "(array([2., 0., 0., 0., 0., 1., 0., 0., 0., 2.]),\n",
       " array([0. , 0.2, 0.4, 0.6, 0.8, 1. , 1.2, 1.4, 1.6, 1.8, 2. ]),\n",
       " <BarContainer object of 10 artists>)"
      ]
     },
     "execution_count": 11,
     "metadata": {},
     "output_type": "execute_result"
    },
    {
     "data": {
      "image/png": "[encoded data removed]",
      "text/plain": [
       "<Figure size 432x288 with 1 Axes>"
      ]
     },
     "metadata": {
      "needs_background": "light"
     },
     "output_type": "display_data"
    }
   ],
   "source": [
    "from sklearn.cluster import AgglomerativeClustering \n",
    "\n",
    "clustering = AgglomerativeClustering(n_clusters=3).fit(A_un) \n",
    "plt.hist(clustering.labels_) "
   ]
  },
  {
   "cell_type": "code",
   "execution_count": 12,
   "id": "8baeed1f",
   "metadata": {},
   "outputs": [],
   "source": [
    "# import matplotlib.pyplot as plt\n",
    "# import networkx as nx\n",
    "# from networkx.algorithms.community.centrality import girvan_newman\n",
    "\n",
    "# # G = nx.karate_club_graph()\n",
    "\n",
    "# def gn_algorithm(G):\n",
    "#     communities = girvan_newman(G)\n",
    "\n",
    "#     node_groups = []\n",
    "#     for com in next(communities): \n",
    "#         node_groups.append(list(com))\n",
    "\n",
    "#     print(node_groups)\n",
    "\n",
    "#     color_map = []\n",
    "#     for node in G:\n",
    "#         if node in node_groups[0]:\n",
    "#             color_map.append('blue')\n",
    "#         else: \n",
    "#             color_map.append('green')  \n",
    "#     nx.draw(G, node_color=color_map, with_labels=True)\n",
    "#     plt.show() \n",
    "#     return node_groups"
   ]
  },
  {
   "cell_type": "code",
   "execution_count": 13,
   "id": "31850409",
   "metadata": {},
   "outputs": [],
   "source": [
    "# node_groups = gn_algorithm(G_di) "
   ]
  },
  {
   "cell_type": "code",
   "execution_count": 14,
   "id": "d8547131",
   "metadata": {},
   "outputs": [
    {
     "data": {
      "text/plain": [
       "(array([2., 0., 0., 0., 0., 2., 0., 0., 0., 1.]),\n",
       " array([0. , 0.2, 0.4, 0.6, 0.8, 1. , 1.2, 1.4, 1.6, 1.8, 2. ]),\n",
       " <BarContainer object of 10 artists>)"
      ]
     },
     "execution_count": 14,
     "metadata": {},
     "output_type": "execute_result"
    },
    {
     "data": {
      "image/png": "[encoded data removed]",
      "text/plain": [
       "<Figure size 432x288 with 1 Axes>"
      ]
     },
     "metadata": {
      "needs_background": "light"
     },
     "output_type": "display_data"
    }
   ],
   "source": [
    "from sknetwork.hierarchy import Paris, cut_straight \n",
    "from scipy.cluster.hierarchy import fcluster\n",
    "paris = Paris()\n",
    "dendrogram = paris.fit_transform(A_un)\n",
    "clusters = cut_straight(dendrogram, n_clusters=3)\n",
    "\n",
    "plt.hist(clusters)"
   ]
  },
  {
   "cell_type": "code",
   "execution_count": 15,
   "id": "1f257428",
   "metadata": {},
   "outputs": [
    {
     "data": {
      "text/plain": [
       "(array([0., 0., 0., 0., 0., 5., 0., 0., 0., 0.]),\n",
       " array([0.5, 0.6, 0.7, 0.8, 0.9, 1. , 1.1, 1.2, 1.3, 1.4, 1.5]),\n",
       " <BarContainer object of 10 artists>)"
      ]
     },
     "execution_count": 15,
     "metadata": {},
     "output_type": "execute_result"
    },
    {
     "data": {
      "image/png": "[encoded data removed]",
      "text/plain": [
       "<Figure size 432x288 with 1 Axes>"
      ]
     },
     "metadata": {
      "needs_background": "light"
     },
     "output_type": "display_data"
    }
   ],
   "source": [
    "from HCS import labelled_HCS\n",
    "labels = labelled_HCS(nx.from_numpy_matrix(A_un))\n",
    "plt.hist(labels)"
   ]
  },
  {
   "cell_type": "code",
   "execution_count": null,
   "id": "142e9558",
   "metadata": {},
   "outputs": [],
   "source": []
  },
  {
   "cell_type": "code",
   "execution_count": null,
   "id": "d263181c",
   "metadata": {},
   "outputs": [],
   "source": []
  }
 ],
 "metadata": {
  "kernelspec": {
   "display_name": "Python 3 (ipykernel)",
   "language": "python",
   "name": "python3"
  },
  "language_info": {
   "codemirror_mode": {
    "name": "ipython",
    "version": 3
   },
   "file_extension": ".py",
   "mimetype": "text/x-python",
   "name": "python",
   "nbconvert_exporter": "python",
   "pygments_lexer": "ipython3",
   "version": "3.9.12"
  }
 },
 "nbformat": 4,
 "nbformat_minor": 5
}
