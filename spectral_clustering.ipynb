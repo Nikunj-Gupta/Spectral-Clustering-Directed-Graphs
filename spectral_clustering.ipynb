{
 "cells": [
  {
   "cell_type": "code",
   "execution_count": 1,
   "id": "56dfb747",
   "metadata": {},
   "outputs": [],
   "source": [
    "import pandas as pd, numpy as np, matplotlib.pyplot as plt, networkx as nx \n",
    "from sklearn.cluster import KMeans "
   ]
  },
  {
   "cell_type": "code",
   "execution_count": 2,
   "id": "76783117",
   "metadata": {},
   "outputs": [],
   "source": [
    "from get_graph_from_data import get_graph, draw  \n",
    "G_di, A_di, G_un, A_un = get_graph(data=pd.read_csv('archive/chicago_taxi_trips_2016_03.csv'), head=False) \n",
    "# draw(G_di) \n",
    "# draw(G_un) \n",
    "# A_un"
   ]
  },
  {
   "cell_type": "code",
   "execution_count": 3,
   "id": "3fc1e089",
   "metadata": {},
   "outputs": [
    {
     "name": "stderr",
     "output_type": "stream",
     "text": [
      "<class 'networkx.utils.decorators.argmap'> compilation 8:4: FutureWarning: normalized_laplacian_matrix will return a scipy.sparse array instead of a matrix in Networkx 3.0.\n"
     ]
    },
    {
     "data": {
      "text/plain": [
       "(array([ 6., 21.,  1.,  0.,  1.,  1.,  0., 41.,  1.,  5.]),\n",
       " array([0. , 0.7, 1.4, 2.1, 2.8, 3.5, 4.2, 4.9, 5.6, 6.3, 7. ]),\n",
       " <BarContainer object of 10 artists>)"
      ]
     },
     "execution_count": 3,
     "metadata": {},
     "output_type": "execute_result"
    },
    {
     "data": {
      "image/png": "[encoded data removed]",
      "text/plain": [
       "<Figure size 432x288 with 1 Axes>"
      ]
     },
     "metadata": {
      "needs_background": "light"
     },
     "output_type": "display_data"
    }
   ],
   "source": [
    "\"\"\"\n",
    "Undirected Graphs: \n",
    "Spectral Clustering (Un-Normalized/Normalized)\n",
    "\n",
    "\"\"\"\n",
    "from scipy.sparse import csgraph \n",
    "from sklearn.preprocessing import normalize\n",
    "\n",
    "def undirected_spectral_clustering(G, k=3, normalization=False): \n",
    "    if normalization: L = nx.normalized_laplacian_matrix(G).toarray() \n",
    "    else:             L = nx.laplacian_matrix(G).toarray() \n",
    "    \n",
    "    vals, vecs = np.linalg.eig(L) \n",
    "    vecs = vecs[:,np.argsort(vals)] \n",
    "    vals = vals[np.argsort(vals)] \n",
    "    \n",
    "    kmeans = KMeans(n_clusters=k)\n",
    "    kmeans.fit(vecs[:,1:k])\n",
    "    clusters = kmeans.labels_\n",
    "    best_cut = vecs[:,1] > 0 \n",
    "    \n",
    "    return clusters, best_cut \n",
    "clusters, best_cut = undirected_spectral_clustering(G_un, k=8, normalization=True) \n",
    "plt.hist(clusters)"
   ]
  },
  {
   "cell_type": "code",
   "execution_count": 4,
   "id": "ae0c890b",
   "metadata": {},
   "outputs": [
    {
     "name": "stderr",
     "output_type": "stream",
     "text": [
      "/var/folders/_1/dc2yd0kn325bph09grgy33lr0000gn/T/ipykernel_67025/261227373.py:18: FutureWarning: adjacency_matrix will return a scipy.sparse array instead of a matrix in Networkx 3.0.\n",
      "  A = nx.adjacency_matrix(G).toarray()\n",
      "/var/folders/_1/dc2yd0kn325bph09grgy33lr0000gn/T/ipykernel_67025/261227373.py:10: DeprecationWarning: \n",
      "\n",
      "The scipy.sparse array containers will be used instead of matrices\n",
      "in Networkx 3.0. Use `to_scipy_sparse_array` instead.\n",
      "  if method == 'straightforward': L = csgraph.laplacian(nx.to_scipy_sparse_matrix(G), normed=True).toarray()\n"
     ]
    },
    {
     "data": {
      "text/plain": [
       "(array([ 2., 12.,  6.,  0.,  5., 13.,  0.,  7.,  9., 23.]),\n",
       " array([0. , 0.7, 1.4, 2.1, 2.8, 3.5, 4.2, 4.9, 5.6, 6.3, 7. ]),\n",
       " <BarContainer object of 10 artists>)"
      ]
     },
     "execution_count": 4,
     "metadata": {},
     "output_type": "execute_result"
    },
    {
     "data": {
      "image/png": "[encoded data removed]",
      "text/plain": [
       "<Figure size 432x288 with 1 Axes>"
      ]
     },
     "metadata": {
      "needs_background": "light"
     },
     "output_type": "display_data"
    }
   ],
   "source": [
    "\"\"\"\n",
    "Directed Graphs \n",
    "Spectral Clustering: \n",
    "    \n",
    "\"\"\"\n",
    "from scipy.sparse import csgraph \n",
    "from sklearn.preprocessing import normalize\n",
    "\n",
    "def directed_spectral_clustering(G, k, method): \n",
    "    if method == 'straightforward': L = csgraph.laplacian(nx.to_scipy_sparse_matrix(G), normed=True).toarray() \n",
    "    if method == 'chung': L = nx.directed_laplacian_matrix(G) # Chung's Laplacian \n",
    "    if method == 'transformation1': \n",
    "        A = nx.adjacency_matrix(G).toarray() \n",
    "        A = A + A.T \n",
    "        G = nx.from_numpy_matrix(A) \n",
    "        return directed_spectral_clustering(G, k=k, method='straightforward')  \n",
    "    if method == 'transformation2': \n",
    "        A = nx.adjacency_matrix(G).toarray() \n",
    "        A = (A.T)@A + A@(A.T) \n",
    "        G = nx.from_numpy_matrix(A) \n",
    "        return directed_spectral_clustering(G, k=k, method='straightforward') \n",
    "    vals, vecs = np.linalg.eig(L) \n",
    "    vecs = vecs[:,np.argsort(vals)] \n",
    "    vals = vals[np.argsort(vals)] \n",
    "    \n",
    "    kmeans = KMeans(n_clusters=k)\n",
    "    kmeans.fit(vecs[:,1:k])\n",
    "    clusters = kmeans.labels_\n",
    "    best_cut = vecs[:,1] > 0 \n",
    "    \n",
    "    return clusters, best_cut \n",
    "\n",
    "clusters, best_cut = directed_spectral_clustering(G_di, k=8, method='transformation2') \n",
    "plt.hist(clusters) "
   ]
  },
  {
   "cell_type": "code",
   "execution_count": 5,
   "id": "a07c3aeb",
   "metadata": {
    "scrolled": false
   },
   "outputs": [
    {
     "data": {
      "text/plain": [
       "(array([69.,  1.,  1.,  0.,  1.,  2.,  0.,  1.,  1.,  1.]),\n",
       " array([0. , 0.7, 1.4, 2.1, 2.8, 3.5, 4.2, 4.9, 5.6, 6.3, 7. ]),\n",
       " <BarContainer object of 10 artists>)"
      ]
     },
     "execution_count": 5,
     "metadata": {},
     "output_type": "execute_result"
    },
    {
     "data": {
      "image/png": "[encoded data removed]",
      "text/plain": [
       "<Figure size 432x288 with 1 Axes>"
      ]
     },
     "metadata": {
      "needs_background": "light"
     },
     "output_type": "display_data"
    }
   ],
   "source": [
    "\"\"\"\n",
    "Directed Graphs \n",
    "Spectral Clustering (Cont.)\n",
    "\n",
    "SVD Spectral Clustering \n",
    "    \n",
    "\"\"\"\n",
    "from scipy.linalg import sqrtm, inv\n",
    "def svd_spectral_clustering(A, d=32, k=8): \n",
    "    u, s, vh = np.linalg.svd(A, full_matrices=False) \n",
    "    U, S, Vh = u[:,:d], s[:d], vh[:d,:] \n",
    "    L = U*S@Vh \n",
    "    Z1 = U@inv(sqrtm(np.diag(S)))\n",
    "    Z2 = (Vh.T)@inv(sqrtm(np.diag(S)))\n",
    "    Z = np.concatenate((Z1, Z2), axis=1)\n",
    "    \n",
    "    kmeans = KMeans(n_clusters=k)\n",
    "    kmeans.fit(Z[:,1:k])\n",
    "    clusters = kmeans.labels_\n",
    "    \n",
    "    return clusters \n",
    "\n",
    "clusters = svd_spectral_clustering(A_di) \n",
    "plt.hist(clusters)\n",
    "\n",
    "# for i in range(5,75,5): \n",
    "#     print(i)\n",
    "#     clusters = svd_spectral_clustering(A_di, d=i) \n",
    "#     plt.hist(clusters)\n",
    "#     plt.show() \n",
    "#     plt.close() "
   ]
  },
  {
   "cell_type": "code",
   "execution_count": 6,
   "id": "e0970dfa",
   "metadata": {
    "scrolled": false
   },
   "outputs": [
    {
     "data": {
      "text/plain": [
       "(array([41.,  1.,  2.,  0.,  1.,  8.,  0.,  1., 22.,  1.]),\n",
       " array([0. , 0.7, 1.4, 2.1, 2.8, 3.5, 4.2, 4.9, 5.6, 6.3, 7. ]),\n",
       " <BarContainer object of 10 artists>)"
      ]
     },
     "execution_count": 6,
     "metadata": {},
     "output_type": "execute_result"
    },
    {
     "data": {
      "image/png": "[encoded data removed]",
      "text/plain": [
       "<Figure size 432x288 with 1 Axes>"
      ]
     },
     "metadata": {
      "needs_background": "light"
     },
     "output_type": "display_data"
    }
   ],
   "source": [
    "\"\"\"\n",
    "Directed Graphs \n",
    "Spectral Clustering (Cont.)\n",
    "\n",
    "Random Walk (RW) Spectral Clustering \n",
    "    \n",
    "\"\"\"\n",
    "from scipy.linalg import sqrtm, inv \n",
    "from scipy.ndimage import gaussian_filter1d\n",
    "\n",
    "def rw_spectral_clustering(A, k=3): \n",
    "    D = np.diag(A.sum(axis=1)) \n",
    "    P = inv(D)@A \n",
    "    \n",
    "    eigenValues, eigenVectors = np.linalg.eig(P)\n",
    "\n",
    "    idx = eigenValues.argsort()[::-1]   \n",
    "    eigenValues = eigenValues[idx]\n",
    "    eigenVectors = eigenVectors[:,idx]\n",
    "\n",
    "    # Second eigenvector \n",
    "    u = eigenVectors[:,1] \n",
    "    v = u.real + u.imag \n",
    "    w = gaussian_filter1d(v, sigma=1)\n",
    "    \n",
    "    kmeans = KMeans(n_clusters=k)\n",
    "    kmeans.fit(w.reshape(-1,1))\n",
    "    clusters = kmeans.labels_\n",
    "    \n",
    "    return clusters \n",
    "\n",
    "clusters = rw_spectral_clustering(A_di, k=8) \n",
    "plt.hist(clusters) "
   ]
  },
  {
   "cell_type": "code",
   "execution_count": null,
   "id": "5613c087",
   "metadata": {},
   "outputs": [],
   "source": []
  },
  {
   "cell_type": "code",
   "execution_count": null,
   "id": "7f8d3fc5",
   "metadata": {},
   "outputs": [],
   "source": []
  },
  {
   "cell_type": "code",
   "execution_count": null,
   "id": "d3e69847",
   "metadata": {},
   "outputs": [],
   "source": []
  },
  {
   "cell_type": "code",
   "execution_count": null,
   "id": "2fd043b3",
   "metadata": {},
   "outputs": [],
   "source": []
  },
  {
   "cell_type": "code",
   "execution_count": null,
   "id": "46ab85ee",
   "metadata": {},
   "outputs": [],
   "source": []
  },
  {
   "cell_type": "code",
   "execution_count": null,
   "id": "9bd1ab2c",
   "metadata": {},
   "outputs": [],
   "source": []
  },
  {
   "cell_type": "code",
   "execution_count": 7,
   "id": "b3515c35",
   "metadata": {},
   "outputs": [],
   "source": [
    "# \"\"\"\n",
    "# Spectral Clustering (Normalized; Sklearn)\n",
    "\n",
    "# \"\"\"\n",
    "\n",
    "# from sklearn.cluster import SpectralClustering \n",
    "# sc = SpectralClustering(8, affinity='precomputed', n_init=100, assign_labels='discretize') \n",
    "\n",
    "# # Undirected Graph \n",
    "# clusters = sc.fit_predict(A_di)\n",
    "# plt.hist(clusters) "
   ]
  },
  {
   "cell_type": "code",
   "execution_count": 8,
   "id": "b64baf96",
   "metadata": {},
   "outputs": [],
   "source": [
    "# # Directed Graph \n",
    "# clusters = sc.fit_predict(A_di) \n",
    "# plt.hist(clusters) "
   ]
  },
  {
   "cell_type": "code",
   "execution_count": 9,
   "id": "8bb28401",
   "metadata": {},
   "outputs": [],
   "source": [
    "# from sklearn.cluster import AgglomerativeClustering \n",
    "\n",
    "# clustering = AgglomerativeClustering(n_clusters=3).fit(A_un) \n",
    "# plt.hist(clustering.labels_) "
   ]
  },
  {
   "cell_type": "code",
   "execution_count": 10,
   "id": "8baeed1f",
   "metadata": {},
   "outputs": [],
   "source": [
    "# import matplotlib.pyplot as plt\n",
    "# import networkx as nx\n",
    "# from networkx.algorithms.community.centrality import girvan_newman\n",
    "\n",
    "# # G = nx.karate_club_graph()\n",
    "\n",
    "# def gn_algorithm(G):\n",
    "#     communities = girvan_newman(G)\n",
    "\n",
    "#     node_groups = []\n",
    "#     for com in next(communities): \n",
    "#         node_groups.append(list(com))\n",
    "\n",
    "#     print(node_groups)\n",
    "\n",
    "#     color_map = []\n",
    "#     for node in G:\n",
    "#         if node in node_groups[0]:\n",
    "#             color_map.append('blue')\n",
    "#         else: \n",
    "#             color_map.append('green')  \n",
    "#     nx.draw(G, node_color=color_map, with_labels=True)\n",
    "#     plt.show() \n",
    "#     return node_groups"
   ]
  },
  {
   "cell_type": "code",
   "execution_count": 11,
   "id": "31850409",
   "metadata": {},
   "outputs": [],
   "source": [
    "# node_groups = gn_algorithm(G_di) "
   ]
  },
  {
   "cell_type": "code",
   "execution_count": 12,
   "id": "d8547131",
   "metadata": {},
   "outputs": [],
   "source": [
    "# from sknetwork.hierarchy import Paris, cut_straight \n",
    "# from scipy.cluster.hierarchy import fcluster\n",
    "# paris = Paris()\n",
    "# dendrogram = paris.fit_transform(A_un)\n",
    "# clusters = cut_straight(dendrogram, n_clusters=3)\n",
    "\n",
    "# plt.hist(clusters)"
   ]
  },
  {
   "cell_type": "code",
   "execution_count": 13,
   "id": "1f257428",
   "metadata": {},
   "outputs": [],
   "source": [
    "# from HCS import labelled_HCS\n",
    "# labels = labelled_HCS(nx.from_numpy_matrix(A_un))\n",
    "# plt.hist(labels)"
   ]
  },
  {
   "cell_type": "code",
   "execution_count": null,
   "id": "142e9558",
   "metadata": {},
   "outputs": [],
   "source": []
  },
  {
   "cell_type": "code",
   "execution_count": null,
   "id": "d263181c",
   "metadata": {},
   "outputs": [],
   "source": []
  }
 ],
 "metadata": {
  "kernelspec": {
   "display_name": "Python 3 (ipykernel)",
   "language": "python",
   "name": "python3"
  },
  "language_info": {
   "codemirror_mode": {
    "name": "ipython",
    "version": 3
   },
   "file_extension": ".py",
   "mimetype": "text/x-python",
   "name": "python",
   "nbconvert_exporter": "python",
   "pygments_lexer": "ipython3",
   "version": "3.9.12"
  }
 },
 "nbformat": 4,
 "nbformat_minor": 5
}
