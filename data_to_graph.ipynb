{
 "cells": [
  {
   "cell_type": "code",
   "execution_count": 1,
   "id": "d6b36d1b",
   "metadata": {},
   "outputs": [],
   "source": [
    "import pandas as pd, numpy as np "
   ]
  },
  {
   "cell_type": "code",
   "execution_count": 2,
   "id": "53f9b3a8",
   "metadata": {},
   "outputs": [
    {
     "name": "stdout",
     "output_type": "stream",
     "text": [
      "<class 'pandas.core.frame.DataFrame'>\n",
      "RangeIndex: 1295000 entries, 0 to 1294999\n",
      "Data columns (total 20 columns):\n",
      " #   Column                  Non-Null Count    Dtype  \n",
      "---  ------                  --------------    -----  \n",
      " 0   taxi_id                 1294453 non-null  float64\n",
      " 1   trip_start_timestamp    1295000 non-null  object \n",
      " 2   trip_end_timestamp      1294850 non-null  object \n",
      " 3   trip_seconds            1294564 non-null  float64\n",
      " 4   trip_miles              1294987 non-null  float64\n",
      " 5   pickup_census_tract     0 non-null        float64\n",
      " 6   dropoff_census_tract    826575 non-null   float64\n",
      " 7   pickup_community_area   1176867 non-null  float64\n",
      " 8   dropoff_community_area  1149193 non-null  float64\n",
      " 9   fare                    1294983 non-null  float64\n",
      " 10  tips                    1294983 non-null  float64\n",
      " 11  tolls                   1294983 non-null  float64\n",
      " 12  extras                  1294983 non-null  float64\n",
      " 13  trip_total              1294983 non-null  float64\n",
      " 14  payment_type            1295000 non-null  object \n",
      " 15  company                 726424 non-null   float64\n",
      " 16  pickup_latitude         1176947 non-null  float64\n",
      " 17  pickup_longitude        1176947 non-null  float64\n",
      " 18  dropoff_latitude        1152838 non-null  float64\n",
      " 19  dropoff_longitude       1152838 non-null  float64\n",
      "dtypes: float64(17), object(3)\n",
      "memory usage: 197.6+ MB\n"
     ]
    }
   ],
   "source": [
    "data = pd.read_csv('archive/chicago_taxi_trips_2016_11.csv') \n",
    "data.info() "
   ]
  },
  {
   "cell_type": "code",
   "execution_count": 3,
   "id": "01bf0cff",
   "metadata": {},
   "outputs": [],
   "source": [
    "clean_data = data[['pickup_community_area', 'dropoff_community_area', 'trip_seconds']].dropna()\n",
    "clean_data = clean_data[clean_data.trip_seconds>300.0]"
   ]
  },
  {
   "cell_type": "code",
   "execution_count": 4,
   "id": "1673c1e9",
   "metadata": {},
   "outputs": [
    {
     "data": {
      "text/plain": [
       "pickup_community_area      33.0\n",
       "dropoff_community_area     28.0\n",
       "trip_seconds              840.0\n",
       "Name: 0, dtype: float64"
      ]
     },
     "execution_count": 4,
     "metadata": {},
     "output_type": "execute_result"
    }
   ],
   "source": [
    "clean_data.iloc[0]"
   ]
  },
  {
   "cell_type": "code",
   "execution_count": 5,
   "id": "a7d560a8",
   "metadata": {},
   "outputs": [],
   "source": [
    "arr = [] \n",
    "# for i in range(1, int(clean_data['pickup_community_area'].nunique())+1): \n",
    "for i in range(7, 10): \n",
    "    temp = [] \n",
    "#     for j in range(1, int(clean_data['dropoff_community_area'].nunique())+1): \n",
    "    for j in range(1, 4): \n",
    "        x = clean_data.loc[(clean_data['pickup_community_area']==i) & (clean_data['dropoff_community_area']==j)]['trip_seconds'].mean()\n",
    "        temp.append(x)\n",
    "    arr.append(temp) \n",
    "arr = np.array(arr) \n"
   ]
  },
  {
   "cell_type": "code",
   "execution_count": 6,
   "id": "fbc4e2d9",
   "metadata": {},
   "outputs": [],
   "source": [
    "df = pd.DataFrame(arr).fillna(0)"
   ]
  },
  {
   "cell_type": "code",
   "execution_count": 7,
   "id": "941c4cd7",
   "metadata": {},
   "outputs": [
    {
     "data": {
      "text/html": [
       "<div>\n",
       "<style scoped>\n",
       "    .dataframe tbody tr th:only-of-type {\n",
       "        vertical-align: middle;\n",
       "    }\n",
       "\n",
       "    .dataframe tbody tr th {\n",
       "        vertical-align: top;\n",
       "    }\n",
       "\n",
       "    .dataframe thead th {\n",
       "        text-align: right;\n",
       "    }\n",
       "</style>\n",
       "<table border=\"1\" class=\"dataframe\">\n",
       "  <thead>\n",
       "    <tr style=\"text-align: right;\">\n",
       "      <th></th>\n",
       "      <th>0</th>\n",
       "      <th>1</th>\n",
       "      <th>2</th>\n",
       "    </tr>\n",
       "  </thead>\n",
       "  <tbody>\n",
       "    <tr>\n",
       "      <th>0</th>\n",
       "      <td>1236.523490</td>\n",
       "      <td>1507.100840</td>\n",
       "      <td>860.627586</td>\n",
       "    </tr>\n",
       "    <tr>\n",
       "      <th>1</th>\n",
       "      <td>1348.072271</td>\n",
       "      <td>1951.742782</td>\n",
       "      <td>925.450662</td>\n",
       "    </tr>\n",
       "    <tr>\n",
       "      <th>2</th>\n",
       "      <td>0.000000</td>\n",
       "      <td>900.000000</td>\n",
       "      <td>0.000000</td>\n",
       "    </tr>\n",
       "  </tbody>\n",
       "</table>\n",
       "</div>"
      ],
      "text/plain": [
       "             0            1           2\n",
       "0  1236.523490  1507.100840  860.627586\n",
       "1  1348.072271  1951.742782  925.450662\n",
       "2     0.000000   900.000000    0.000000"
      ]
     },
     "execution_count": 7,
     "metadata": {},
     "output_type": "execute_result"
    }
   ],
   "source": [
    "df"
   ]
  },
  {
   "cell_type": "code",
   "execution_count": 8,
   "id": "16b3a564",
   "metadata": {},
   "outputs": [],
   "source": [
    "import networkx as nx\n",
    "G = nx.from_pandas_adjacency(df, create_using=nx.DiGraph)"
   ]
  },
  {
   "cell_type": "code",
   "execution_count": 9,
   "id": "65a2958c",
   "metadata": {
    "scrolled": false
   },
   "outputs": [
    {
     "data": {
      "image/png": "[encoded data removed]",
      "text/plain": [
       "<Figure size 432x288 with 1 Axes>"
      ]
     },
     "metadata": {},
     "output_type": "display_data"
    }
   ],
   "source": [
    "nx.draw(G, with_labels=True, node_color ='green') \n",
    "\n",
    "# labels = nx.get_edge_attributes(G,'weight')\n",
    "# nx.draw_networkx_edge_labels(G, pos, edge_labels=labels)"
   ]
  },
  {
   "cell_type": "code",
   "execution_count": null,
   "id": "0d863372",
   "metadata": {},
   "outputs": [],
   "source": []
  }
 ],
 "metadata": {
  "kernelspec": {
   "display_name": "Python 3 (ipykernel)",
   "language": "python",
   "name": "python3"
  },
  "language_info": {
   "codemirror_mode": {
    "name": "ipython",
    "version": 3
   },
   "file_extension": ".py",
   "mimetype": "text/x-python",
   "name": "python",
   "nbconvert_exporter": "python",
   "pygments_lexer": "ipython3",
   "version": "3.9.12"
  }
 },
 "nbformat": 4,
 "nbformat_minor": 5
}
