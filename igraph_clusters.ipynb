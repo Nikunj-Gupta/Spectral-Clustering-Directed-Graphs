{
 "cells": [
  {
   "cell_type": "markdown",
   "metadata": {},
   "source": [
    "# Igraph clusters"
   ]
  },
  {
   "cell_type": "code",
   "execution_count": 1,
   "metadata": {},
   "outputs": [],
   "source": [
    "import igraph as ig\n",
    "import leidenalg as la\n",
    "import pandas as pd, numpy as np, matplotlib.pyplot as plt\n",
    "from itertools import chain"
   ]
  },
  {
   "cell_type": "markdown",
   "metadata": {},
   "source": [
    "Data from spectral_clustering data cleaning process"
   ]
  },
  {
   "cell_type": "code",
   "execution_count": 2,
   "metadata": {},
   "outputs": [],
   "source": [
    "from get_graph_from_data import get_graph, draw  \n",
    "G_di, A_di, G_un, A_un = get_graph(data=pd.read_csv('../data/chicago_taxi_trips_2016_11.csv'), head=False) \n",
    "# draw(G_di) \n",
    "# draw(G_un) "
   ]
  },
  {
   "cell_type": "code",
   "execution_count": 3,
   "metadata": {},
   "outputs": [],
   "source": [
    "#covert to igraph object\n",
    "G_un_ig = ig.Graph.from_networkx(G_un)\n"
   ]
  },
  {
   "cell_type": "markdown",
   "metadata": {},
   "source": [
    "Leiden clusters"
   ]
  },
  {
   "cell_type": "code",
   "execution_count": 4,
   "metadata": {},
   "outputs": [],
   "source": [
    "partition = la.find_partition(G_un_ig, la.ModularityVertexPartition)"
   ]
  },
  {
   "cell_type": "code",
   "execution_count": 5,
   "metadata": {},
   "outputs": [],
   "source": [
    "partition2 = la.find_partition(G_un_ig, la.CPMVertexPartition,\n",
    "                                   resolution_parameter = 0.05)"
   ]
  },
  {
   "cell_type": "code",
   "execution_count": 6,
   "metadata": {},
   "outputs": [],
   "source": [
    "#init list of values for gamma, node number, and cluster membership\n",
    "gammas = np.arange(0.02, 0.2, 0.02)\n",
    "g_ls = [] #value for gamma\n",
    "cl_num_ls = [] #number of clusters from this gamma\n",
    "nodes = [] #node numbers\n",
    "node_mems = [] #cluster memberships\n",
    "\n",
    "#try different values for gamma to get clusters of different sizes\n",
    "for i in gammas:\n",
    "    partition = la.find_partition(G_un_ig, la.CPMVertexPartition,\n",
    "                                   resolution_parameter = i)\n",
    "    \n",
    "    n_nodes = len(partition.membership)\n",
    "    g_ls.append([i]*n_nodes)\n",
    "    \n",
    "    \n",
    "    # Find number of clusters\n",
    "    n_clust = len(set(partition.membership))\n",
    "    cl_num_ls.append([n_clust]*n_nodes)\n",
    "\n",
    "    # Retrieve cluster membership of each node\n",
    "    node = [*range(len(partition.membership))] #number each node\n",
    "    node_mem = partition.membership\n",
    "    \n",
    "    nodes.append(node)\n",
    "    node_mems.append(node_mem)\n",
    "\n",
    "\n",
    "#create ndarray of value for gamma, cluster num, node number, and node membership  \n",
    "node_mem_gamma = np.asarray(np.column_stack((list(chain(*g_ls)),\n",
    "                                  list(chain(*cl_num_ls)),\n",
    "                                  list(chain(*nodes)),\n",
    "                                  list(chain(*node_mems)))))\n",
    "#print(node_mem_gamma[:10])"
   ]
  },
  {
   "cell_type": "code",
   "execution_count": 7,
   "metadata": {},
   "outputs": [],
   "source": [
    "#export array as csv\n",
    "np.savetxt(\"leiden.csv\", node_mem_gamma, delimiter=\",\")"
   ]
  },
  {
   "cell_type": "markdown",
   "metadata": {},
   "source": [
    "Community Walktrap (based on random walks)"
   ]
  },
  {
   "cell_type": "code",
   "execution_count": 9,
   "metadata": {},
   "outputs": [
    {
     "name": "stdout",
     "output_type": "stream",
     "text": [
      "Clustering with 77 elements and 3 clusters\n"
     ]
    }
   ],
   "source": [
    "wc = G_un_ig.community_walktrap()\n",
    "\n",
    "wc_cl = wc.as_clustering() #creates an object of type VertexClustering, with optimal number of clusters\n",
    "print(wc_cl.summary())\n",
    "\n",
    "node_mem = wc_cl.membership #gives cluster membership for each node\n",
    "node_num = [*range(77)] #number each node\n",
    "\n",
    "wc_node_mem = np.asarray(np.column_stack((node_num, node_mem)))"
   ]
  },
  {
   "cell_type": "code",
   "execution_count": 13,
   "metadata": {},
   "outputs": [],
   "source": [
    "#print(wc_node_mem)"
   ]
  },
  {
   "cell_type": "code",
   "execution_count": 10,
   "metadata": {},
   "outputs": [],
   "source": [
    "#export array with node membership as csv\n",
    "np.savetxt(\"walktrap.csv\", wc_node_mem, delimiter=\",\")"
   ]
  },
  {
   "cell_type": "code",
   "execution_count": null,
   "metadata": {},
   "outputs": [],
   "source": []
  }
 ],
 "metadata": {
  "kernelspec": {
   "display_name": "Python 3",
   "language": "python",
   "name": "python3"
  },
  "language_info": {
   "codemirror_mode": {
    "name": "ipython",
    "version": 3
   },
   "file_extension": ".py",
   "mimetype": "text/x-python",
   "name": "python",
   "nbconvert_exporter": "python",
   "pygments_lexer": "ipython3",
   "version": "3.8.5"
  }
 },
 "nbformat": 4,
 "nbformat_minor": 4
}
