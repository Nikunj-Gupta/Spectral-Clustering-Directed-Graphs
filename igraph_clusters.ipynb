{
 "cells": [
  {
   "cell_type": "markdown",
   "metadata": {},
   "source": [
    "# Igraph clusters"
   ]
  },
  {
   "cell_type": "code",
   "execution_count": 1,
   "metadata": {},
   "outputs": [],
   "source": [
    "import igraph as ig\n",
    "import leidenalg as la\n",
    "import pandas as pd, numpy as np, matplotlib.pyplot as plt\n",
    "from itertools import chain"
   ]
  },
  {
   "cell_type": "markdown",
   "metadata": {},
   "source": [
    "Data from spectral_clustering data cleaning process"
   ]
  },
  {
   "cell_type": "code",
   "execution_count": 2,
   "metadata": {},
   "outputs": [],
   "source": [
    "from get_graph_from_data import get_graph, draw  \n",
    "G_di, A_di, G_un, A_un = get_graph(data=pd.read_csv('../data/chicago_taxi_trips_2016_11.csv'), head=False) \n",
    "# draw(G_di) \n",
    "# draw(G_un) "
   ]
  },
  {
   "cell_type": "code",
   "execution_count": 3,
   "metadata": {},
   "outputs": [],
   "source": [
    "#covert to igraph object\n",
    "G_un_ig = ig.Graph.from_networkx(G_un)\n"
   ]
  },
  {
   "cell_type": "markdown",
   "metadata": {},
   "source": [
    "Leiden clusters"
   ]
  },
  {
   "cell_type": "code",
   "execution_count": 4,
   "metadata": {},
   "outputs": [],
   "source": [
    "partition = la.find_partition(G_un_ig, la.ModularityVertexPartition)"
   ]
  },
  {
   "cell_type": "code",
   "execution_count": 5,
   "metadata": {},
   "outputs": [],
   "source": [
    "partition2 = la.find_partition(G_un_ig, la.CPMVertexPartition,\n",
    "                                   resolution_parameter = 0.05)"
   ]
  },
  {
   "cell_type": "code",
   "execution_count": 6,
   "metadata": {},
   "outputs": [],
   "source": [
    "#init list of values for gamma, node number, and cluster membership\n",
    "gammas = np.arange(0.02, 0.2, 0.02)\n",
    "g_ls = [] #value for gamma\n",
    "cl_num_ls = [] #number of clusters from this gamma\n",
    "nodes = [] #node numbers\n",
    "node_mems = [] #cluster memberships\n",
    "\n",
    "#try different values for gamma to get clusters of different sizes\n",
    "for i in gammas:\n",
    "    partition = la.find_partition(G_un_ig, la.CPMVertexPartition,\n",
    "                                   resolution_parameter = i)\n",
    "    \n",
    "    n_nodes = len(partition.membership)\n",
    "    g_ls.append([i]*n_nodes)\n",
    "    \n",
    "    \n",
    "    # Find number of clusters\n",
    "    n_clust = len(set(partition.membership))\n",
    "    cl_num_ls.append([n_clust]*n_nodes)\n",
    "\n",
    "    # Retrieve cluster membership of each node\n",
    "    node = [*range(len(partition.membership))] #number each node\n",
    "    node_mem = partition.membership\n",
    "    \n",
    "    nodes.append(node)\n",
    "    node_mems.append(node_mem)\n",
    "\n",
    "\n",
    "#create ndarray of value for gamma, cluster num, node number, and node membership  \n",
    "node_mem_gamma = np.asarray(np.column_stack((list(chain(*g_ls)),\n",
    "                                  list(chain(*cl_num_ls)),\n",
    "                                  list(chain(*nodes)),\n",
    "                                  list(chain(*node_mems)))))\n",
    "#print(node_mem_gamma[:10])"
   ]
  },
  {
   "cell_type": "code",
   "execution_count": 7,
   "metadata": {},
   "outputs": [],
   "source": [
    "#export array as csv\n",
    "np.savetxt(\"leiden.csv\", node_mem_gamma, delimiter=\",\")"
   ]
  },
  {
   "cell_type": "markdown",
   "metadata": {},
   "source": [
    "Use G as networkx object to draw graph since pycairo not working on Zoe's computer. Nodes can be colored using the list of node membership created from the leiden algorithm. Hmm this is still not working"
   ]
  },
  {
   "cell_type": "code",
   "execution_count": 25,
   "metadata": {},
   "outputs": [
    {
     "name": "stdout",
     "output_type": "stream",
     "text": [
      "{1.0, 2.0, 3.0, 4.0, 5.0, 6.0}\n"
     ]
    },
    {
     "data": {
      "text/plain": [
       "[77.0,\n",
       " 76.0,\n",
       " 73.0,\n",
       " 72.0,\n",
       " 67.0,\n",
       " 61.0,\n",
       " 60.0,\n",
       " 59.0,\n",
       " 56.0,\n",
       " 49.0,\n",
       " 44.0,\n",
       " 43.0,\n",
       " 42.0,\n",
       " 41.0,\n",
       " 40.0,\n",
       " 39.0,\n",
       " 38.0,\n",
       " 37.0,\n",
       " 36.0,\n",
       " 35.0,\n",
       " 34.0,\n",
       " 33.0,\n",
       " 32.0,\n",
       " 31.0,\n",
       " 30.0,\n",
       " 29.0,\n",
       " 28.0,\n",
       " 25.0,\n",
       " 24.0,\n",
       " 23.0,\n",
       " 22.0,\n",
       " 21.0,\n",
       " 20.0,\n",
       " 19.0,\n",
       " 17.0,\n",
       " 16.0,\n",
       " 15.0,\n",
       " 14.0,\n",
       " 13.0,\n",
       " 12.0,\n",
       " 11.0,\n",
       " 10.0,\n",
       " 8.0,\n",
       " 7.0,\n",
       " 6.0,\n",
       " 5.0,\n",
       " 4.0,\n",
       " 3.0,\n",
       " 2.0,\n",
       " 1.0,\n",
       " 75.0,\n",
       " 74.0,\n",
       " 71.0,\n",
       " 70.0,\n",
       " 69.0,\n",
       " 68.0,\n",
       " 66.0,\n",
       " 65.0,\n",
       " 64.0,\n",
       " 63.0,\n",
       " 62.0,\n",
       " 58.0,\n",
       " 57.0,\n",
       " 53.0,\n",
       " 52.0,\n",
       " 50.0,\n",
       " 48.0,\n",
       " 46.0,\n",
       " 45.0,\n",
       " 27.0,\n",
       " 26.0,\n",
       " 18.0,\n",
       " 9.0,\n",
       " 51.0,\n",
       " 55.0,\n",
       " 54.0,\n",
       " 47.0]"
      ]
     },
     "execution_count": 25,
     "metadata": {},
     "output_type": "execute_result"
    }
   ],
   "source": [
    "print(set(node_mem_gamma[:,1]))\n",
    "\n",
    "#retrieve cluster membership corresponding to 3 clusters\n",
    "n3_node_mem = node_mem_gamma[np.where(node_mem_gamma[:,1] == 3), 3]\n",
    "\n",
    "\n",
    "import networkx as nx\n",
    "#list(G_un.nodes) #, node_color = n3_node_mem, pos = nx.spring_layout(G_un))"
   ]
  },
  {
   "cell_type": "markdown",
   "metadata": {},
   "source": [
    "Community Walktrap (based on random walks)"
   ]
  },
  {
   "cell_type": "code",
   "execution_count": 9,
   "metadata": {},
   "outputs": [
    {
     "name": "stdout",
     "output_type": "stream",
     "text": [
      "Clustering with 77 elements and 3 clusters\n"
     ]
    }
   ],
   "source": [
    "wc = G_un_ig.community_walktrap()\n",
    "\n",
    "wc_cl = wc.as_clustering() #creates an object of type VertexClustering, with optimal number of clusters\n",
    "print(wc_cl.summary())\n",
    "\n",
    "node_mem = wc_cl.membership #gives cluster membership for each node\n",
    "node_num = [*range(77)] #number each node\n",
    "\n",
    "wc_node_mem = np.asarray(np.column_stack((node_num, node_mem)))"
   ]
  },
  {
   "cell_type": "code",
   "execution_count": 13,
   "metadata": {},
   "outputs": [],
   "source": [
    "#print(wc_node_mem)"
   ]
  },
  {
   "cell_type": "code",
   "execution_count": 10,
   "metadata": {},
   "outputs": [],
   "source": [
    "#export array with node membership as csv\n",
    "np.savetxt(\"walktrap.csv\", wc_node_mem, delimiter=\",\")"
   ]
  },
  {
   "cell_type": "code",
   "execution_count": null,
   "metadata": {},
   "outputs": [],
   "source": []
  }
 ],
 "metadata": {
  "kernelspec": {
   "display_name": "Python 3",
   "language": "python",
   "name": "python3"
  },
  "language_info": {
   "codemirror_mode": {
    "name": "ipython",
    "version": 3
   },
   "file_extension": ".py",
   "mimetype": "text/x-python",
   "name": "python",
   "nbconvert_exporter": "python",
   "pygments_lexer": "ipython3",
   "version": "3.8.5"
  }
 },
 "nbformat": 4,
 "nbformat_minor": 4
}
