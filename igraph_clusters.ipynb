{
 "cells": [
  {
   "cell_type": "markdown",
   "metadata": {},
   "source": [
    "# Igraph clusters"
   ]
  },
  {
   "cell_type": "code",
   "execution_count": 1,
   "metadata": {},
   "outputs": [],
   "source": [
    "import igraph as ig\n",
    "import leidenalg as la\n",
    "import pandas as pd, numpy as np, matplotlib.pyplot as plt\n",
    "from itertools import chain"
   ]
  },
  {
   "cell_type": "markdown",
   "metadata": {},
   "source": [
    "Data from spectral_clustering data cleaning process"
   ]
  },
  {
   "cell_type": "code",
   "execution_count": 2,
   "metadata": {},
   "outputs": [],
   "source": [
    "from get_graph_from_data import get_graph, draw  \n",
    "G_di, A_di, G_un, A_un = get_graph(data=pd.read_csv('../data/chicago_taxi_trips_2016_11.csv'), head=False) \n",
    "# draw(G_di) \n",
    "# draw(G_un) "
   ]
  },
  {
   "cell_type": "code",
   "execution_count": 3,
   "metadata": {},
   "outputs": [],
   "source": [
    "#covert to igraph object\n",
    "G_un_ig = ig.Graph.from_networkx(G_un)\n"
   ]
  },
  {
   "cell_type": "markdown",
   "metadata": {},
   "source": [
    "Leiden clusters"
   ]
  },
  {
   "cell_type": "code",
   "execution_count": 4,
   "metadata": {},
   "outputs": [],
   "source": [
    "partition = la.find_partition(G_un_ig, la.ModularityVertexPartition)"
   ]
  },
  {
   "cell_type": "code",
   "execution_count": 7,
   "metadata": {},
   "outputs": [],
   "source": [
    "partition2 = la.find_partition(G_un_ig, la.CPMVertexPartition,\n",
    "                                   resolution_parameter = 0.05)"
   ]
  },
  {
   "cell_type": "code",
   "execution_count": 67,
   "metadata": {},
   "outputs": [
    {
     "name": "stdout",
     "output_type": "stream",
     "text": [
      "[[0.02 1.   0.   0.  ]\n",
      " [0.02 1.   1.   0.  ]\n",
      " [0.02 1.   2.   0.  ]\n",
      " [0.02 1.   3.   0.  ]\n",
      " [0.02 1.   4.   0.  ]\n",
      " [0.02 1.   5.   0.  ]\n",
      " [0.02 1.   6.   0.  ]\n",
      " [0.02 1.   7.   0.  ]\n",
      " [0.02 1.   8.   0.  ]\n",
      " [0.02 1.   9.   0.  ]]\n"
     ]
    }
   ],
   "source": [
    "#init list of values for gamma, node number, and cluster membership\n",
    "gammas = np.arange(0.02, 0.2, 0.02)\n",
    "g_ls = [] #value for gamma\n",
    "cl_num_ls = [] #number of clusters from this gamma\n",
    "nodes = [] #node numbers\n",
    "node_mems = [] #cluster memberships\n",
    "\n",
    "#try different values for gamma to get clusters of different sizes\n",
    "for i in gammas:\n",
    "    partition = la.find_partition(G_un_ig, la.CPMVertexPartition,\n",
    "                                   resolution_parameter = i)\n",
    "    \n",
    "    n_nodes = len(partition.membership)\n",
    "    g_ls.append([i]*n_nodes)\n",
    "    \n",
    "    \n",
    "    # Find number of clusters\n",
    "    n_clust = len(set(partition.membership))\n",
    "    cl_num_ls.append([n_clust]*n_nodes)\n",
    "\n",
    "    # Retrieve cluster membership of each node\n",
    "    node = [*range(len(partition.membership))] #number each node\n",
    "    node_mem = partition.membership\n",
    "    \n",
    "    nodes.append(node)\n",
    "    node_mems.append(node_mem)\n",
    "\n",
    "\n",
    "#create ndarray of value for gamma, cluster num, node number, and node membership  \n",
    "node_mem_gamma = np.asarray(np.column_stack((list(chain(*g_ls)),\n",
    "                                  list(chain(*cl_num_ls)),\n",
    "                                  list(chain(*nodes)),\n",
    "                                  list(chain(*node_mems)))))\n",
    "#print(node_mem_gamma[:10])"
   ]
  },
  {
   "cell_type": "code",
   "execution_count": null,
   "metadata": {},
   "outputs": [],
   "source": []
  },
  {
   "cell_type": "markdown",
   "metadata": {},
   "source": [
    "Community Walktrap (based on random walks)"
   ]
  },
  {
   "cell_type": "code",
   "execution_count": 11,
   "metadata": {},
   "outputs": [
    {
     "name": "stdout",
     "output_type": "stream",
     "text": [
      "Clustering with 77 elements and 3 clusters\n"
     ]
    }
   ],
   "source": [
    "wc = G_un_ig.community_walktrap()\n",
    "\n",
    "wc_cl = wc.as_clustering() #creates an object of type VertexClustering, with optimal number of clusters\n",
    "print(wc_cl.summary())\n",
    "\n",
    "node_mem = wc_cl.membership #gives cluster membership for each node\n",
    "node_num = [*range(77)] #number each node\n",
    "\n",
    "wc_node_mem = np.asarray(np.column_stack((node_num, node_mem)))"
   ]
  },
  {
   "cell_type": "code",
   "execution_count": 12,
   "metadata": {},
   "outputs": [
    {
     "name": "stdout",
     "output_type": "stream",
     "text": [
      "[[ 0  0]\n",
      " [ 1  0]\n",
      " [ 2  1]\n",
      " [ 3  1]\n",
      " [ 4  1]\n",
      " [ 5  1]\n",
      " [ 6  0]\n",
      " [ 7  0]\n",
      " [ 8  0]\n",
      " [ 9  1]\n",
      " [10  1]\n",
      " [11  1]\n",
      " [12  1]\n",
      " [13  1]\n",
      " [14  1]\n",
      " [15  1]\n",
      " [16  1]\n",
      " [17  1]\n",
      " [18  1]\n",
      " [19  1]\n",
      " [20  0]\n",
      " [21  0]\n",
      " [22  0]\n",
      " [23  0]\n",
      " [24  0]\n",
      " [25  0]\n",
      " [26  0]\n",
      " [27  0]\n",
      " [28  0]\n",
      " [29  0]\n",
      " [30  0]\n",
      " [31  0]\n",
      " [32  0]\n",
      " [33  0]\n",
      " [34  0]\n",
      " [35  0]\n",
      " [36  0]\n",
      " [37  0]\n",
      " [38  0]\n",
      " [39  0]\n",
      " [40  0]\n",
      " [41  0]\n",
      " [42  0]\n",
      " [43  0]\n",
      " [44  0]\n",
      " [45  0]\n",
      " [46  0]\n",
      " [47  0]\n",
      " [48  0]\n",
      " [49  0]\n",
      " [50  1]\n",
      " [51  0]\n",
      " [52  1]\n",
      " [53  1]\n",
      " [54  1]\n",
      " [55  1]\n",
      " [56  1]\n",
      " [57  0]\n",
      " [58  0]\n",
      " [59  0]\n",
      " [60  0]\n",
      " [61  0]\n",
      " [62  0]\n",
      " [63  1]\n",
      " [64  1]\n",
      " [65  1]\n",
      " [66  1]\n",
      " [67  1]\n",
      " [68  1]\n",
      " [69  0]\n",
      " [70  0]\n",
      " [71  0]\n",
      " [72  0]\n",
      " [73  1]\n",
      " [74  1]\n",
      " [75  2]\n",
      " [76  1]]\n"
     ]
    }
   ],
   "source": [
    "#print(wc_node_mem)"
   ]
  },
  {
   "cell_type": "code",
   "execution_count": null,
   "metadata": {},
   "outputs": [],
   "source": []
  }
 ],
 "metadata": {
  "kernelspec": {
   "display_name": "Python 3",
   "language": "python",
   "name": "python3"
  },
  "language_info": {
   "codemirror_mode": {
    "name": "ipython",
    "version": 3
   },
   "file_extension": ".py",
   "mimetype": "text/x-python",
   "name": "python",
   "nbconvert_exporter": "python",
   "pygments_lexer": "ipython3",
   "version": "3.8.5"
  }
 },
 "nbformat": 4,
 "nbformat_minor": 4
}
