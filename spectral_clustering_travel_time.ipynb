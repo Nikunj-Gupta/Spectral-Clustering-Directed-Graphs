{
 "cells": [
  {
   "cell_type": "code",
   "execution_count": 2,
   "id": "d6b36d1b",
   "metadata": {},
   "outputs": [],
   "source": [
    "import pandas as pd, numpy as np "
   ]
  },
  {
   "cell_type": "code",
   "execution_count": 3,
   "id": "53f9b3a8",
   "metadata": {},
   "outputs": [
    {
     "name": "stdout",
     "output_type": "stream",
     "text": [
      "<class 'pandas.core.frame.DataFrame'>\n",
      "RangeIndex: 1295000 entries, 0 to 1294999\n",
      "Data columns (total 20 columns):\n",
      " #   Column                  Non-Null Count    Dtype  \n",
      "---  ------                  --------------    -----  \n",
      " 0   taxi_id                 1294453 non-null  float64\n",
      " 1   trip_start_timestamp    1295000 non-null  object \n",
      " 2   trip_end_timestamp      1294850 non-null  object \n",
      " 3   trip_seconds            1294564 non-null  float64\n",
      " 4   trip_miles              1294987 non-null  float64\n",
      " 5   pickup_census_tract     0 non-null        float64\n",
      " 6   dropoff_census_tract    826575 non-null   float64\n",
      " 7   pickup_community_area   1176867 non-null  float64\n",
      " 8   dropoff_community_area  1149193 non-null  float64\n",
      " 9   fare                    1294983 non-null  float64\n",
      " 10  tips                    1294983 non-null  float64\n",
      " 11  tolls                   1294983 non-null  float64\n",
      " 12  extras                  1294983 non-null  float64\n",
      " 13  trip_total              1294983 non-null  float64\n",
      " 14  payment_type            1295000 non-null  object \n",
      " 15  company                 726424 non-null   float64\n",
      " 16  pickup_latitude         1176947 non-null  float64\n",
      " 17  pickup_longitude        1176947 non-null  float64\n",
      " 18  dropoff_latitude        1152838 non-null  float64\n",
      " 19  dropoff_longitude       1152838 non-null  float64\n",
      "dtypes: float64(17), object(3)\n",
      "memory usage: 197.6+ MB\n"
     ]
    }
   ],
   "source": [
    "data = pd.read_csv('data/chicago_taxi_trips_2016_11.csv') \n",
    "data.info() "
   ]
  },
  {
   "cell_type": "code",
   "execution_count": 4,
   "id": "aecd1e95",
   "metadata": {},
   "outputs": [
    {
     "data": {
      "text/plain": [
       "array([0.000e+00, 1.900e+00, 2.000e+00, 3.000e+00, 1.500e+00, 4.000e+00,\n",
       "       5.000e+00, 4.500e+00, 3.800e+00, 2.500e+00, 5.500e+00, 1.000e+00,\n",
       "       2.100e+01, 5.000e+01, 4.400e+00, 1.000e-02, 1.400e+00, 3.500e+00,\n",
       "             nan, 2.400e+00, 5.250e+00, 2.600e+00, 9.500e-01, 2.300e+01,\n",
       "       1.890e+01, 1.800e+00, 4.900e+00, 2.500e+01, 4.800e+00, 2.100e+00,\n",
       "       8.000e+00, 1.700e+01, 7.500e+00, 4.000e-02, 7.500e-01, 4.600e+01,\n",
       "       4.300e+00, 6.000e+00, 3.400e+00, 3.300e+00, 3.140e+00, 7.500e+01,\n",
       "       3.600e+00, 6.000e-01, 1.850e+00, 7.000e+00, 1.600e+00, 4.010e+00,\n",
       "       3.811e+01, 1.000e+01, 1.675e+01, 2.800e+00, 5.000e-02, 1.990e+00,\n",
       "       4.700e+00, 1.908e+01, 3.900e+00, 1.980e+00, 8.000e-01, 9.000e-01,\n",
       "       8.000e+01, 4.525e+01, 3.250e+00, 1.200e-01, 4.100e+00, 4.500e-01,\n",
       "       5.000e-01, 1.800e+01, 2.700e+00, 6.800e+00])"
      ]
     },
     "execution_count": 4,
     "metadata": {},
     "output_type": "execute_result"
    }
   ],
   "source": [
    "data['tolls'].unique()"
   ]
  },
  {
   "cell_type": "code",
   "execution_count": 5,
   "id": "01bf0cff",
   "metadata": {},
   "outputs": [],
   "source": [
    "clean_data = data[['pickup_community_area', 'dropoff_community_area', 'trip_seconds']].dropna()\n",
    "clean_data = clean_data[clean_data.trip_seconds>300.0]"
   ]
  },
  {
   "cell_type": "code",
   "execution_count": 6,
   "id": "1673c1e9",
   "metadata": {},
   "outputs": [
    {
     "data": {
      "text/html": [
       "<div>\n",
       "<style scoped>\n",
       "    .dataframe tbody tr th:only-of-type {\n",
       "        vertical-align: middle;\n",
       "    }\n",
       "\n",
       "    .dataframe tbody tr th {\n",
       "        vertical-align: top;\n",
       "    }\n",
       "\n",
       "    .dataframe thead th {\n",
       "        text-align: right;\n",
       "    }\n",
       "</style>\n",
       "<table border=\"1\" class=\"dataframe\">\n",
       "  <thead>\n",
       "    <tr style=\"text-align: right;\">\n",
       "      <th></th>\n",
       "      <th>pickup_community_area</th>\n",
       "      <th>dropoff_community_area</th>\n",
       "      <th>trip_seconds</th>\n",
       "    </tr>\n",
       "  </thead>\n",
       "  <tbody>\n",
       "    <tr>\n",
       "      <th>0</th>\n",
       "      <td>33.0</td>\n",
       "      <td>28.0</td>\n",
       "      <td>840.0</td>\n",
       "    </tr>\n",
       "    <tr>\n",
       "      <th>1</th>\n",
       "      <td>32.0</td>\n",
       "      <td>28.0</td>\n",
       "      <td>540.0</td>\n",
       "    </tr>\n",
       "    <tr>\n",
       "      <th>2</th>\n",
       "      <td>8.0</td>\n",
       "      <td>3.0</td>\n",
       "      <td>1200.0</td>\n",
       "    </tr>\n",
       "    <tr>\n",
       "      <th>3</th>\n",
       "      <td>32.0</td>\n",
       "      <td>8.0</td>\n",
       "      <td>480.0</td>\n",
       "    </tr>\n",
       "    <tr>\n",
       "      <th>5</th>\n",
       "      <td>24.0</td>\n",
       "      <td>4.0</td>\n",
       "      <td>1440.0</td>\n",
       "    </tr>\n",
       "  </tbody>\n",
       "</table>\n",
       "</div>"
      ],
      "text/plain": [
       "   pickup_community_area  dropoff_community_area  trip_seconds\n",
       "0                   33.0                    28.0         840.0\n",
       "1                   32.0                    28.0         540.0\n",
       "2                    8.0                     3.0        1200.0\n",
       "3                   32.0                     8.0         480.0\n",
       "5                   24.0                     4.0        1440.0"
      ]
     },
     "execution_count": 6,
     "metadata": {},
     "output_type": "execute_result"
    }
   ],
   "source": [
    "clean_data.head()"
   ]
  },
  {
   "cell_type": "code",
   "execution_count": 7,
   "id": "1689bd8c",
   "metadata": {},
   "outputs": [],
   "source": [
    "sorted_data = clean_data.sort_values(by=['pickup_community_area', 'dropoff_community_area'], ascending=True)"
   ]
  },
  {
   "cell_type": "code",
   "execution_count": 8,
   "id": "bbfe513c",
   "metadata": {},
   "outputs": [
    {
     "data": {
      "text/html": [
       "<div>\n",
       "<style scoped>\n",
       "    .dataframe tbody tr th:only-of-type {\n",
       "        vertical-align: middle;\n",
       "    }\n",
       "\n",
       "    .dataframe tbody tr th {\n",
       "        vertical-align: top;\n",
       "    }\n",
       "\n",
       "    .dataframe thead th {\n",
       "        text-align: right;\n",
       "    }\n",
       "</style>\n",
       "<table border=\"1\" class=\"dataframe\">\n",
       "  <thead>\n",
       "    <tr style=\"text-align: right;\">\n",
       "      <th></th>\n",
       "      <th>pickup_community_area</th>\n",
       "      <th>dropoff_community_area</th>\n",
       "      <th>trip_seconds</th>\n",
       "    </tr>\n",
       "  </thead>\n",
       "  <tbody>\n",
       "    <tr>\n",
       "      <th>31</th>\n",
       "      <td>1.0</td>\n",
       "      <td>1.0</td>\n",
       "      <td>360.0</td>\n",
       "    </tr>\n",
       "    <tr>\n",
       "      <th>347</th>\n",
       "      <td>1.0</td>\n",
       "      <td>1.0</td>\n",
       "      <td>660.0</td>\n",
       "    </tr>\n",
       "    <tr>\n",
       "      <th>744</th>\n",
       "      <td>1.0</td>\n",
       "      <td>1.0</td>\n",
       "      <td>420.0</td>\n",
       "    </tr>\n",
       "    <tr>\n",
       "      <th>3510</th>\n",
       "      <td>1.0</td>\n",
       "      <td>1.0</td>\n",
       "      <td>401.0</td>\n",
       "    </tr>\n",
       "    <tr>\n",
       "      <th>22054</th>\n",
       "      <td>1.0</td>\n",
       "      <td>1.0</td>\n",
       "      <td>780.0</td>\n",
       "    </tr>\n",
       "  </tbody>\n",
       "</table>\n",
       "</div>"
      ],
      "text/plain": [
       "       pickup_community_area  dropoff_community_area  trip_seconds\n",
       "31                       1.0                     1.0         360.0\n",
       "347                      1.0                     1.0         660.0\n",
       "744                      1.0                     1.0         420.0\n",
       "3510                     1.0                     1.0         401.0\n",
       "22054                    1.0                     1.0         780.0"
      ]
     },
     "execution_count": 8,
     "metadata": {},
     "output_type": "execute_result"
    }
   ],
   "source": [
    "sorted_data.head()"
   ]
  },
  {
   "cell_type": "code",
   "execution_count": 128,
   "id": "e5d6e7d9",
   "metadata": {},
   "outputs": [],
   "source": [
    "final_data = sorted_data.groupby(['pickup_community_area', 'dropoff_community_area'], as_index=False)['trip_seconds'].mean()\n",
    "# df.groupby('A').mean()\n",
    "final_data['trip_seconds'] = final_data['trip_seconds'].round(0)"
   ]
  },
  {
   "cell_type": "code",
   "execution_count": 134,
   "id": "5dfec67e",
   "metadata": {},
   "outputs": [
    {
     "data": {
      "text/html": [
       "<div>\n",
       "<style scoped>\n",
       "    .dataframe tbody tr th:only-of-type {\n",
       "        vertical-align: middle;\n",
       "    }\n",
       "\n",
       "    .dataframe tbody tr th {\n",
       "        vertical-align: top;\n",
       "    }\n",
       "\n",
       "    .dataframe thead th {\n",
       "        text-align: right;\n",
       "    }\n",
       "</style>\n",
       "<table border=\"1\" class=\"dataframe\">\n",
       "  <thead>\n",
       "    <tr style=\"text-align: right;\">\n",
       "      <th></th>\n",
       "      <th>pickup_community_area</th>\n",
       "      <th>dropoff_community_area</th>\n",
       "      <th>trip_seconds</th>\n",
       "    </tr>\n",
       "  </thead>\n",
       "  <tbody>\n",
       "    <tr>\n",
       "      <th>0</th>\n",
       "      <td>1.0</td>\n",
       "      <td>1.0</td>\n",
       "      <td>920.0</td>\n",
       "    </tr>\n",
       "    <tr>\n",
       "      <th>1</th>\n",
       "      <td>1.0</td>\n",
       "      <td>2.0</td>\n",
       "      <td>621.0</td>\n",
       "    </tr>\n",
       "    <tr>\n",
       "      <th>2</th>\n",
       "      <td>1.0</td>\n",
       "      <td>3.0</td>\n",
       "      <td>749.0</td>\n",
       "    </tr>\n",
       "    <tr>\n",
       "      <th>3</th>\n",
       "      <td>1.0</td>\n",
       "      <td>4.0</td>\n",
       "      <td>766.0</td>\n",
       "    </tr>\n",
       "    <tr>\n",
       "      <th>4</th>\n",
       "      <td>1.0</td>\n",
       "      <td>5.0</td>\n",
       "      <td>1010.0</td>\n",
       "    </tr>\n",
       "  </tbody>\n",
       "</table>\n",
       "</div>"
      ],
      "text/plain": [
       "   pickup_community_area  dropoff_community_area  trip_seconds\n",
       "0                    1.0                     1.0         920.0\n",
       "1                    1.0                     2.0         621.0\n",
       "2                    1.0                     3.0         749.0\n",
       "3                    1.0                     4.0         766.0\n",
       "4                    1.0                     5.0        1010.0"
      ]
     },
     "execution_count": 134,
     "metadata": {},
     "output_type": "execute_result"
    }
   ],
   "source": [
    "final_data.head()"
   ]
  },
  {
   "cell_type": "code",
   "execution_count": 135,
   "id": "6f681d7a",
   "metadata": {},
   "outputs": [],
   "source": [
    "# unique values\n",
    "unique_nodes = final_data['pickup_community_area'].unique().shape[0]"
   ]
  },
  {
   "cell_type": "code",
   "execution_count": 136,
   "id": "27cda880",
   "metadata": {},
   "outputs": [],
   "source": [
    "final_data_np = final_data.to_numpy()"
   ]
  },
  {
   "cell_type": "code",
   "execution_count": 44,
   "id": "9e91f92c",
   "metadata": {},
   "outputs": [
    {
     "data": {
      "text/plain": [
       "array([[1.00000000e+00, 1.00000000e+00, 9.20431373e+02],\n",
       "       [1.00000000e+00, 2.00000000e+00, 6.20733564e+02],\n",
       "       [1.00000000e+00, 3.00000000e+00, 7.49194946e+02],\n",
       "       ...,\n",
       "       [7.70000000e+01, 7.30000000e+01, 2.58000000e+03],\n",
       "       [7.70000000e+01, 7.60000000e+01, 2.45211799e+03],\n",
       "       [7.70000000e+01, 7.70000000e+01, 1.08051111e+03]])"
      ]
     },
     "execution_count": 44,
     "metadata": {},
     "output_type": "execute_result"
    }
   ],
   "source": [
    "# final_data_np[[0]]\n",
    "\n",
    "    "
   ]
  },
  {
   "cell_type": "code",
   "execution_count": 57,
   "id": "a74f3233",
   "metadata": {},
   "outputs": [
    {
     "data": {
      "text/plain": [
       "array([2.00000000e+00, 7.60000000e+01, 2.48271681e+03])"
      ]
     },
     "execution_count": 57,
     "metadata": {},
     "output_type": "execute_result"
    }
   ],
   "source": [
    "final_data_np[77]"
   ]
  },
  {
   "cell_type": "code",
   "execution_count": 137,
   "id": "2cc16e0a",
   "metadata": {},
   "outputs": [],
   "source": [
    "adjacency_matrix = np.zeros((unique_nodes, unique_nodes))"
   ]
  },
  {
   "cell_type": "code",
   "execution_count": 138,
   "id": "134b111c",
   "metadata": {},
   "outputs": [],
   "source": [
    "# fill adjacency matrix \n",
    "counter = 0 \n",
    "for i, j in final_data_np[:, 0:2]:\n",
    "    row = int(i) - 1 \n",
    "    col = int(j) - 1 \n",
    "    adjacency_matrix[row, col] = final_data_np[[counter]][0][2]\n",
    "    counter += 1 \n",
    "        "
   ]
  },
  {
   "cell_type": "code",
   "execution_count": 139,
   "id": "d36e1cc9",
   "metadata": {},
   "outputs": [
    {
     "data": {
      "text/plain": [
       "array([[ 920.,  621.,  749., ...,    0., 2566.,  634.],\n",
       "       [ 641., 1467.,  914., ...,    0., 2483.,  750.],\n",
       "       [ 843., 1043., 1011., ...,    0., 2654.,  618.],\n",
       "       ...,\n",
       "       [   0.,    0.,    0., ...,  600.,    0.,    0.],\n",
       "       [2445., 2059., 2377., ..., 3390., 1644., 2419.],\n",
       "       [ 656.,  803.,  628., ...,    0., 2452., 1081.]])"
      ]
     },
     "execution_count": 139,
     "metadata": {},
     "output_type": "execute_result"
    }
   ],
   "source": [
    "adjacency_matrix"
   ]
  },
  {
   "cell_type": "code",
   "execution_count": 140,
   "id": "6a0c0250",
   "metadata": {},
   "outputs": [],
   "source": [
    "degree_matrix = np.diag(adjacency_matrix.sum(axis=1))"
   ]
  },
  {
   "cell_type": "code",
   "execution_count": 141,
   "id": "adc19e1a",
   "metadata": {},
   "outputs": [
    {
     "data": {
      "text/plain": [
       "array([[ 70017.,      0.,      0., ...,      0.,      0.,      0.],\n",
       "       [     0.,  83501.,      0., ...,      0.,      0.,      0.],\n",
       "       [     0.,      0.,  95004., ...,      0.,      0.,      0.],\n",
       "       ...,\n",
       "       [     0.,      0.,      0., ...,  16000.,      0.,      0.],\n",
       "       [     0.,      0.,      0., ...,      0., 185798.,      0.],\n",
       "       [     0.,      0.,      0., ...,      0.,      0.,  87336.]])"
      ]
     },
     "execution_count": 141,
     "metadata": {},
     "output_type": "execute_result"
    }
   ],
   "source": [
    "degree_matrix"
   ]
  },
  {
   "cell_type": "code",
   "execution_count": 142,
   "id": "7fbc8070",
   "metadata": {},
   "outputs": [],
   "source": [
    "laplacian_matrix = degree_matrix - adjacency_matrix"
   ]
  },
  {
   "cell_type": "code",
   "execution_count": 143,
   "id": "6fd54882",
   "metadata": {},
   "outputs": [
    {
     "data": {
      "text/plain": [
       "array([[ 69097.,   -621.,   -749., ...,      0.,  -2566.,   -634.],\n",
       "       [  -641.,  82034.,   -914., ...,      0.,  -2483.,   -750.],\n",
       "       [  -843.,  -1043.,  93993., ...,      0.,  -2654.,   -618.],\n",
       "       ...,\n",
       "       [     0.,      0.,      0., ...,  15400.,      0.,      0.],\n",
       "       [ -2445.,  -2059.,  -2377., ...,  -3390., 184154.,  -2419.],\n",
       "       [  -656.,   -803.,   -628., ...,      0.,  -2452.,  86255.]])"
      ]
     },
     "execution_count": 143,
     "metadata": {},
     "output_type": "execute_result"
    }
   ],
   "source": [
    "laplacian_matrix"
   ]
  },
  {
   "cell_type": "code",
   "execution_count": 144,
   "id": "31ba0fbb",
   "metadata": {},
   "outputs": [],
   "source": [
    "# eigen values and vectors \n",
    "\n",
    "eig_val, eig_vec = np.linalg.eig(laplacian_matrix)"
   ]
  },
  {
   "cell_type": "code",
   "execution_count": 163,
   "id": "ab115a2a",
   "metadata": {},
   "outputs": [
    {
     "data": {
      "text/plain": [
       "array([[ 1.90965642e-02+0.j, -2.88273458e-02+0.j],\n",
       "       [ 3.95903189e-02+0.j, -4.38056193e-02+0.j],\n",
       "       [ 2.72810053e-02+0.j, -7.63959833e-03+0.j],\n",
       "       [ 2.71386645e-02+0.j, -2.29171241e-02+0.j],\n",
       "       [ 1.79911154e-02+0.j, -1.80675891e-02+0.j],\n",
       "       [ 3.06514132e-02+0.j,  2.03154908e-02+0.j],\n",
       "       [ 2.50168468e-02+0.j,  4.44370104e-02+0.j],\n",
       "       [ 3.68381919e-02+0.j,  8.40419930e-01+0.j],\n",
       "       [-1.46782648e-03+0.j, -1.46560051e-02+0.j],\n",
       "       [ 1.00372771e-01+0.j, -4.62640512e-02+0.j],\n",
       "       [ 7.34514375e-03+0.j, -2.70396088e-02+0.j],\n",
       "       [ 2.03718899e-02+0.j, -2.44202555e-02+0.j],\n",
       "       [ 1.60446401e-02+0.j, -3.23572302e-02+0.j],\n",
       "       [ 1.68410616e-02+0.j, -1.66720691e-02+0.j],\n",
       "       [ 1.65923386e-02+0.j, -1.93100069e-02+0.j],\n",
       "       [ 1.37230029e-02+0.j, -1.87865938e-02+0.j],\n",
       "       [-4.00325898e-03+0.j, -2.68734699e-02+0.j],\n",
       "       [-1.09877253e-03+0.j,  2.78894444e-03+0.j],\n",
       "       [ 1.23120882e-02+0.j, -2.71714196e-02+0.j],\n",
       "       [ 1.27841364e-02+0.j, -2.22138388e-02+0.j],\n",
       "       [ 1.49234139e-02+0.j, -1.11162478e-02+0.j],\n",
       "       [ 1.22447515e-02+0.j, -6.76262119e-03+0.j],\n",
       "       [ 3.84920915e-03+0.j, -1.68142219e-02+0.j],\n",
       "       [ 1.64935106e-02+0.j,  1.17292587e-02+0.j],\n",
       "       [ 3.75750018e-03+0.j, -1.90999087e-02+0.j],\n",
       "       [-2.64093511e-03+0.j, -1.71201819e-02+0.j],\n",
       "       [ 1.23151094e-02+0.j, -1.67048860e-02+0.j],\n",
       "       [ 3.24101813e-02+0.j,  4.93375004e-01+0.j],\n",
       "       [ 1.83120796e-03+0.j, -2.03320571e-02+0.j],\n",
       "       [ 2.56423623e-03+0.j, -1.91893546e-02+0.j],\n",
       "       [ 7.16591391e-03+0.j, -8.90759711e-03+0.j],\n",
       "       [ 2.55883401e-02+0.j,  1.29671207e-01+0.j],\n",
       "       [ 1.46406091e-02+0.j,  1.06360680e-02+0.j],\n",
       "       [ 8.08317493e-03+0.j, -9.11279340e-03+0.j],\n",
       "       [ 8.06840563e-03+0.j, -1.61410506e-02+0.j],\n",
       "       [-2.57033405e-03+0.j, -1.60297419e-02+0.j],\n",
       "       [ 6.32855808e-03+0.j, -2.16592130e-02+0.j],\n",
       "       [ 9.59879342e-03+0.j, -1.33639438e-02+0.j],\n",
       "       [ 9.98374245e-03+0.j, -1.58429814e-02+0.j],\n",
       "       [ 1.01806633e-02+0.j, -1.83466416e-02+0.j],\n",
       "       [ 1.25486080e-02+0.j, -2.86310697e-02+0.j],\n",
       "       [ 1.58497517e-02+0.j, -2.08336030e-02+0.j],\n",
       "       [ 1.01354883e-02+0.j, -2.54129577e-02+0.j],\n",
       "       [ 1.03894938e-02+0.j, -1.64398885e-02+0.j],\n",
       "       [-2.37933611e-03+0.j, -2.25360154e-02+0.j],\n",
       "       [ 3.38830426e-02+0.j, -3.46427417e-02+0.j],\n",
       "       [-5.45878120e-05+0.j,  1.01233691e-04+0.j],\n",
       "       [ 1.55765581e-02+0.j, -1.22837081e-02+0.j],\n",
       "       [-6.87514637e-03+0.j, -4.15238572e-02+0.j],\n",
       "       [-1.76150616e-03+0.j, -3.33676346e-02+0.j],\n",
       "       [-3.00509405e-03+0.j, -1.03349542e-02+0.j],\n",
       "       [-7.76738186e-04+0.j, -4.67135534e-04+0.j],\n",
       "       [-1.05878569e-03+0.j, -2.57671913e-03+0.j],\n",
       "       [ 4.95878136e-06+0.j,  1.41421840e-05+0.j],\n",
       "       [-1.82244641e-03+0.j, -2.41813689e-02+0.j],\n",
       "       [-9.86581011e-01+0.j,  1.62266686e-02+0.j],\n",
       "       [ 6.37365732e-03+0.j, -1.76362746e-02+0.j],\n",
       "       [ 7.19934147e-03+0.j, -3.95087586e-03+0.j],\n",
       "       [ 5.60455101e-03+0.j, -1.80473871e-02+0.j],\n",
       "       [ 1.25607408e-02+0.j, -1.96694880e-02+0.j],\n",
       "       [ 9.88350164e-03+0.j, -1.70023849e-02+0.j],\n",
       "       [ 6.46265870e-03+0.j, -1.94196118e-02+0.j],\n",
       "       [ 1.76174832e-02+0.j, -1.25127048e-02+0.j],\n",
       "       [ 2.47853094e-03+0.j, -2.31322809e-02+0.j],\n",
       "       [-1.86834144e-03+0.j, -2.23546574e-02+0.j],\n",
       "       [-2.28052216e-03+0.j, -8.60996430e-03+0.j],\n",
       "       [ 5.54623260e-03+0.j, -3.10042392e-02+0.j],\n",
       "       [ 8.16533377e-03+0.j, -1.89058144e-02+0.j],\n",
       "       [ 1.41247585e-02+0.j, -3.53058188e-02+0.j],\n",
       "       [ 1.70892604e-02+0.j, -2.75886167e-02+0.j],\n",
       "       [ 1.03291705e-02+0.j, -3.95283484e-03+0.j],\n",
       "       [ 7.51319775e-03+0.j, -6.12392717e-04+0.j],\n",
       "       [-2.37764769e-03+0.j, -2.65674965e-02+0.j],\n",
       "       [-1.50437150e-04+0.j, -1.28196220e-04+0.j],\n",
       "       [ 1.09867463e-02+0.j, -7.98961369e-03+0.j],\n",
       "       [-1.80543839e-02+0.j,  1.19681230e-02+0.j],\n",
       "       [ 2.82792232e-02+0.j, -1.80992158e-02+0.j]])"
      ]
     },
     "execution_count": 163,
     "metadata": {},
     "output_type": "execute_result"
    }
   ],
   "source": [
    "eig_vec[:,1:3]"
   ]
  },
  {
   "cell_type": "code",
   "execution_count": 146,
   "id": "1ea56e2d",
   "metadata": {},
   "outputs": [
    {
     "data": {
      "text/html": [
       "<div>\n",
       "<style scoped>\n",
       "    .dataframe tbody tr th:only-of-type {\n",
       "        vertical-align: middle;\n",
       "    }\n",
       "\n",
       "    .dataframe tbody tr th {\n",
       "        vertical-align: top;\n",
       "    }\n",
       "\n",
       "    .dataframe thead th {\n",
       "        text-align: right;\n",
       "    }\n",
       "</style>\n",
       "<table border=\"1\" class=\"dataframe\">\n",
       "  <thead>\n",
       "    <tr style=\"text-align: right;\">\n",
       "      <th></th>\n",
       "      <th>0</th>\n",
       "      <th>1</th>\n",
       "      <th>2</th>\n",
       "      <th>3</th>\n",
       "      <th>4</th>\n",
       "      <th>5</th>\n",
       "      <th>6</th>\n",
       "      <th>7</th>\n",
       "      <th>8</th>\n",
       "      <th>9</th>\n",
       "      <th>...</th>\n",
       "      <th>67</th>\n",
       "      <th>68</th>\n",
       "      <th>69</th>\n",
       "      <th>70</th>\n",
       "      <th>71</th>\n",
       "      <th>72</th>\n",
       "      <th>73</th>\n",
       "      <th>74</th>\n",
       "      <th>75</th>\n",
       "      <th>76</th>\n",
       "    </tr>\n",
       "  </thead>\n",
       "  <tbody>\n",
       "    <tr>\n",
       "      <th>0</th>\n",
       "      <td>920.0</td>\n",
       "      <td>621.0</td>\n",
       "      <td>749.0</td>\n",
       "      <td>766.0</td>\n",
       "      <td>1010.0</td>\n",
       "      <td>848.0</td>\n",
       "      <td>1242.0</td>\n",
       "      <td>1515.0</td>\n",
       "      <td>900.0</td>\n",
       "      <td>1650.0</td>\n",
       "      <td>...</td>\n",
       "      <td>0.0</td>\n",
       "      <td>0.0</td>\n",
       "      <td>3060.0</td>\n",
       "      <td>0.0</td>\n",
       "      <td>0.0</td>\n",
       "      <td>0.0</td>\n",
       "      <td>0.0</td>\n",
       "      <td>0.0</td>\n",
       "      <td>2566.0</td>\n",
       "      <td>634.0</td>\n",
       "    </tr>\n",
       "    <tr>\n",
       "      <th>1</th>\n",
       "      <td>641.0</td>\n",
       "      <td>1467.0</td>\n",
       "      <td>914.0</td>\n",
       "      <td>656.0</td>\n",
       "      <td>962.0</td>\n",
       "      <td>1099.0</td>\n",
       "      <td>1191.0</td>\n",
       "      <td>1550.0</td>\n",
       "      <td>1080.0</td>\n",
       "      <td>1560.0</td>\n",
       "      <td>...</td>\n",
       "      <td>0.0</td>\n",
       "      <td>3300.0</td>\n",
       "      <td>0.0</td>\n",
       "      <td>0.0</td>\n",
       "      <td>0.0</td>\n",
       "      <td>0.0</td>\n",
       "      <td>0.0</td>\n",
       "      <td>0.0</td>\n",
       "      <td>2483.0</td>\n",
       "      <td>750.0</td>\n",
       "    </tr>\n",
       "    <tr>\n",
       "      <th>2</th>\n",
       "      <td>843.0</td>\n",
       "      <td>1043.0</td>\n",
       "      <td>1011.0</td>\n",
       "      <td>632.0</td>\n",
       "      <td>730.0</td>\n",
       "      <td>587.0</td>\n",
       "      <td>847.0</td>\n",
       "      <td>881.0</td>\n",
       "      <td>2085.0</td>\n",
       "      <td>1916.0</td>\n",
       "      <td>...</td>\n",
       "      <td>0.0</td>\n",
       "      <td>2640.0</td>\n",
       "      <td>0.0</td>\n",
       "      <td>1560.0</td>\n",
       "      <td>0.0</td>\n",
       "      <td>0.0</td>\n",
       "      <td>0.0</td>\n",
       "      <td>0.0</td>\n",
       "      <td>2654.0</td>\n",
       "      <td>618.0</td>\n",
       "    </tr>\n",
       "    <tr>\n",
       "      <th>3</th>\n",
       "      <td>864.0</td>\n",
       "      <td>683.0</td>\n",
       "      <td>690.0</td>\n",
       "      <td>852.0</td>\n",
       "      <td>527.0</td>\n",
       "      <td>786.0</td>\n",
       "      <td>1120.0</td>\n",
       "      <td>1283.0</td>\n",
       "      <td>1404.0</td>\n",
       "      <td>1545.0</td>\n",
       "      <td>...</td>\n",
       "      <td>0.0</td>\n",
       "      <td>0.0</td>\n",
       "      <td>0.0</td>\n",
       "      <td>0.0</td>\n",
       "      <td>0.0</td>\n",
       "      <td>0.0</td>\n",
       "      <td>0.0</td>\n",
       "      <td>0.0</td>\n",
       "      <td>1988.0</td>\n",
       "      <td>624.0</td>\n",
       "    </tr>\n",
       "    <tr>\n",
       "      <th>4</th>\n",
       "      <td>1029.0</td>\n",
       "      <td>1132.0</td>\n",
       "      <td>673.0</td>\n",
       "      <td>586.0</td>\n",
       "      <td>836.0</td>\n",
       "      <td>604.0</td>\n",
       "      <td>834.0</td>\n",
       "      <td>1254.0</td>\n",
       "      <td>1140.0</td>\n",
       "      <td>1520.0</td>\n",
       "      <td>...</td>\n",
       "      <td>2880.0</td>\n",
       "      <td>0.0</td>\n",
       "      <td>0.0</td>\n",
       "      <td>0.0</td>\n",
       "      <td>0.0</td>\n",
       "      <td>0.0</td>\n",
       "      <td>0.0</td>\n",
       "      <td>0.0</td>\n",
       "      <td>1980.0</td>\n",
       "      <td>887.0</td>\n",
       "    </tr>\n",
       "    <tr>\n",
       "      <th>...</th>\n",
       "      <td>...</td>\n",
       "      <td>...</td>\n",
       "      <td>...</td>\n",
       "      <td>...</td>\n",
       "      <td>...</td>\n",
       "      <td>...</td>\n",
       "      <td>...</td>\n",
       "      <td>...</td>\n",
       "      <td>...</td>\n",
       "      <td>...</td>\n",
       "      <td>...</td>\n",
       "      <td>...</td>\n",
       "      <td>...</td>\n",
       "      <td>...</td>\n",
       "      <td>...</td>\n",
       "      <td>...</td>\n",
       "      <td>...</td>\n",
       "      <td>...</td>\n",
       "      <td>...</td>\n",
       "      <td>...</td>\n",
       "      <td>...</td>\n",
       "    </tr>\n",
       "    <tr>\n",
       "      <th>72</th>\n",
       "      <td>0.0</td>\n",
       "      <td>0.0</td>\n",
       "      <td>0.0</td>\n",
       "      <td>0.0</td>\n",
       "      <td>0.0</td>\n",
       "      <td>1380.0</td>\n",
       "      <td>0.0</td>\n",
       "      <td>1680.0</td>\n",
       "      <td>0.0</td>\n",
       "      <td>0.0</td>\n",
       "      <td>...</td>\n",
       "      <td>780.0</td>\n",
       "      <td>0.0</td>\n",
       "      <td>0.0</td>\n",
       "      <td>720.0</td>\n",
       "      <td>0.0</td>\n",
       "      <td>7740.0</td>\n",
       "      <td>0.0</td>\n",
       "      <td>420.0</td>\n",
       "      <td>2970.0</td>\n",
       "      <td>0.0</td>\n",
       "    </tr>\n",
       "    <tr>\n",
       "      <th>73</th>\n",
       "      <td>0.0</td>\n",
       "      <td>0.0</td>\n",
       "      <td>0.0</td>\n",
       "      <td>0.0</td>\n",
       "      <td>0.0</td>\n",
       "      <td>0.0</td>\n",
       "      <td>0.0</td>\n",
       "      <td>0.0</td>\n",
       "      <td>0.0</td>\n",
       "      <td>0.0</td>\n",
       "      <td>...</td>\n",
       "      <td>0.0</td>\n",
       "      <td>0.0</td>\n",
       "      <td>0.0</td>\n",
       "      <td>0.0</td>\n",
       "      <td>0.0</td>\n",
       "      <td>0.0</td>\n",
       "      <td>0.0</td>\n",
       "      <td>0.0</td>\n",
       "      <td>0.0</td>\n",
       "      <td>0.0</td>\n",
       "    </tr>\n",
       "    <tr>\n",
       "      <th>74</th>\n",
       "      <td>0.0</td>\n",
       "      <td>0.0</td>\n",
       "      <td>0.0</td>\n",
       "      <td>0.0</td>\n",
       "      <td>0.0</td>\n",
       "      <td>0.0</td>\n",
       "      <td>0.0</td>\n",
       "      <td>0.0</td>\n",
       "      <td>0.0</td>\n",
       "      <td>0.0</td>\n",
       "      <td>...</td>\n",
       "      <td>0.0</td>\n",
       "      <td>0.0</td>\n",
       "      <td>1320.0</td>\n",
       "      <td>840.0</td>\n",
       "      <td>0.0</td>\n",
       "      <td>1320.0</td>\n",
       "      <td>0.0</td>\n",
       "      <td>600.0</td>\n",
       "      <td>0.0</td>\n",
       "      <td>0.0</td>\n",
       "    </tr>\n",
       "    <tr>\n",
       "      <th>75</th>\n",
       "      <td>2445.0</td>\n",
       "      <td>2059.0</td>\n",
       "      <td>2377.0</td>\n",
       "      <td>2018.0</td>\n",
       "      <td>2022.0</td>\n",
       "      <td>2423.0</td>\n",
       "      <td>2381.0</td>\n",
       "      <td>2509.0</td>\n",
       "      <td>1089.0</td>\n",
       "      <td>929.0</td>\n",
       "      <td>...</td>\n",
       "      <td>6120.0</td>\n",
       "      <td>3372.0</td>\n",
       "      <td>3135.0</td>\n",
       "      <td>3451.0</td>\n",
       "      <td>3254.0</td>\n",
       "      <td>3045.0</td>\n",
       "      <td>2592.0</td>\n",
       "      <td>3390.0</td>\n",
       "      <td>1644.0</td>\n",
       "      <td>2419.0</td>\n",
       "    </tr>\n",
       "    <tr>\n",
       "      <th>76</th>\n",
       "      <td>656.0</td>\n",
       "      <td>803.0</td>\n",
       "      <td>628.0</td>\n",
       "      <td>651.0</td>\n",
       "      <td>812.0</td>\n",
       "      <td>722.0</td>\n",
       "      <td>1007.0</td>\n",
       "      <td>1135.0</td>\n",
       "      <td>0.0</td>\n",
       "      <td>1626.0</td>\n",
       "      <td>...</td>\n",
       "      <td>0.0</td>\n",
       "      <td>0.0</td>\n",
       "      <td>0.0</td>\n",
       "      <td>0.0</td>\n",
       "      <td>2400.0</td>\n",
       "      <td>2580.0</td>\n",
       "      <td>0.0</td>\n",
       "      <td>0.0</td>\n",
       "      <td>2452.0</td>\n",
       "      <td>1081.0</td>\n",
       "    </tr>\n",
       "  </tbody>\n",
       "</table>\n",
       "<p>77 rows × 77 columns</p>\n",
       "</div>"
      ],
      "text/plain": [
       "        0       1       2       3       4       5       6       7       8   \\\n",
       "0    920.0   621.0   749.0   766.0  1010.0   848.0  1242.0  1515.0   900.0   \n",
       "1    641.0  1467.0   914.0   656.0   962.0  1099.0  1191.0  1550.0  1080.0   \n",
       "2    843.0  1043.0  1011.0   632.0   730.0   587.0   847.0   881.0  2085.0   \n",
       "3    864.0   683.0   690.0   852.0   527.0   786.0  1120.0  1283.0  1404.0   \n",
       "4   1029.0  1132.0   673.0   586.0   836.0   604.0   834.0  1254.0  1140.0   \n",
       "..     ...     ...     ...     ...     ...     ...     ...     ...     ...   \n",
       "72     0.0     0.0     0.0     0.0     0.0  1380.0     0.0  1680.0     0.0   \n",
       "73     0.0     0.0     0.0     0.0     0.0     0.0     0.0     0.0     0.0   \n",
       "74     0.0     0.0     0.0     0.0     0.0     0.0     0.0     0.0     0.0   \n",
       "75  2445.0  2059.0  2377.0  2018.0  2022.0  2423.0  2381.0  2509.0  1089.0   \n",
       "76   656.0   803.0   628.0   651.0   812.0   722.0  1007.0  1135.0     0.0   \n",
       "\n",
       "        9   ...      67      68      69      70      71      72      73  \\\n",
       "0   1650.0  ...     0.0     0.0  3060.0     0.0     0.0     0.0     0.0   \n",
       "1   1560.0  ...     0.0  3300.0     0.0     0.0     0.0     0.0     0.0   \n",
       "2   1916.0  ...     0.0  2640.0     0.0  1560.0     0.0     0.0     0.0   \n",
       "3   1545.0  ...     0.0     0.0     0.0     0.0     0.0     0.0     0.0   \n",
       "4   1520.0  ...  2880.0     0.0     0.0     0.0     0.0     0.0     0.0   \n",
       "..     ...  ...     ...     ...     ...     ...     ...     ...     ...   \n",
       "72     0.0  ...   780.0     0.0     0.0   720.0     0.0  7740.0     0.0   \n",
       "73     0.0  ...     0.0     0.0     0.0     0.0     0.0     0.0     0.0   \n",
       "74     0.0  ...     0.0     0.0  1320.0   840.0     0.0  1320.0     0.0   \n",
       "75   929.0  ...  6120.0  3372.0  3135.0  3451.0  3254.0  3045.0  2592.0   \n",
       "76  1626.0  ...     0.0     0.0     0.0     0.0  2400.0  2580.0     0.0   \n",
       "\n",
       "        74      75      76  \n",
       "0      0.0  2566.0   634.0  \n",
       "1      0.0  2483.0   750.0  \n",
       "2      0.0  2654.0   618.0  \n",
       "3      0.0  1988.0   624.0  \n",
       "4      0.0  1980.0   887.0  \n",
       "..     ...     ...     ...  \n",
       "72   420.0  2970.0     0.0  \n",
       "73     0.0     0.0     0.0  \n",
       "74   600.0     0.0     0.0  \n",
       "75  3390.0  1644.0  2419.0  \n",
       "76     0.0  2452.0  1081.0  \n",
       "\n",
       "[77 rows x 77 columns]"
      ]
     },
     "execution_count": 146,
     "metadata": {},
     "output_type": "execute_result"
    }
   ],
   "source": [
    "adjacency_df = pd.DataFrame(adjacency_matrix)\n",
    "adjacency_df"
   ]
  },
  {
   "cell_type": "code",
   "execution_count": 147,
   "id": "16b3a564",
   "metadata": {},
   "outputs": [],
   "source": [
    "import networkx as nx\n",
    "def draw(G):\n",
    "    from pylab import rcParams\n",
    "    rcParams['figure.figsize'] = 14, 10\n",
    "\n",
    "    pos = nx.spring_layout(G)\n",
    "    nx.draw_networkx(G, pos, node_size=500, node_color ='green')\n",
    "    labels = nx.get_edge_attributes(G, 'weight') \n",
    "    nx.draw_networkx_edge_labels(G, pos, edge_labels=labels) "
   ]
  },
  {
   "cell_type": "code",
   "execution_count": 148,
   "id": "65a2958c",
   "metadata": {
    "scrolled": false
   },
   "outputs": [
    {
     "data": {
      "image/png": "[encoded data removed]",
      "text/plain": [
       "<Figure size 1008x720 with 1 Axes>"
      ]
     },
     "metadata": {},
     "output_type": "display_data"
    }
   ],
   "source": [
    "## Directed Graph \n",
    "G_di = nx.from_pandas_adjacency(adjacency_df.head(5), create_using=nx.DiGraph) \n",
    "\n",
    "draw(G_di)"
   ]
  },
  {
   "cell_type": "code",
   "execution_count": 149,
   "id": "0d863372",
   "metadata": {},
   "outputs": [
    {
     "data": {
      "image/png": "[encoded data removed]",
      "text/plain": [
       "<Figure size 1008x720 with 1 Axes>"
      ]
     },
     "metadata": {},
     "output_type": "display_data"
    }
   ],
   "source": [
    "G_un = nx.Graph()\n",
    "G_un.add_edges_from(G_di.edges(), weight=0) \n",
    "for u, v, d in G_di.edges(data=True):\n",
    "    G_un[u][v]['weight'] += d['weight']\n",
    "\n",
    "draw(G_un)"
   ]
  },
  {
   "cell_type": "code",
   "execution_count": 150,
   "id": "2bfe7091",
   "metadata": {},
   "outputs": [],
   "source": [
    "A_di = nx.to_numpy_array(G_di) \n",
    "A_un = nx.to_numpy_array(G_un) "
   ]
  },
  {
   "cell_type": "code",
   "execution_count": 157,
   "id": "8f188ec6",
   "metadata": {},
   "outputs": [],
   "source": [
    "\"\"\"\n",
    "Spectral Clustering \n",
    "\n",
    "A: Adjacency matrix \n",
    "n: n_clusters \n",
    "\n",
    "\"\"\"\n",
    "def spectral_clustering(A, n=3): \n",
    "    D = np.diag(A.sum(axis=1)) \n",
    "    L = D-A \n",
    "    \n",
    "    vals, vecs = np.linalg.eig(L) \n",
    "    vals = vals.real\n",
    "    vecs = vecs.real\n",
    "    vecs = vecs[:,np.argsort(vals)] \n",
    "    vals = vals[np.argsort(vals)] \n",
    "    \n",
    "    from sklearn.cluster import KMeans\n",
    "\n",
    "    kmeans = KMeans(n_clusters=n)\n",
    "    kmeans.fit(vecs[:,1:n+1])\n",
    "    clusters = kmeans.labels_\n",
    "    print(\"Clusters:\", clusters) \n",
    "    \n",
    "    best_cut = vecs[:,1] > 0 \n",
    "    \n",
    "    return clusters, best_cut "
   ]
  },
  {
   "cell_type": "code",
   "execution_count": 160,
   "id": "68d263f4",
   "metadata": {},
   "outputs": [
    {
     "name": "stdout",
     "output_type": "stream",
     "text": [
      "Clusters: [0 0 0 0 0 0 0 0 8 0 0 0 0 0 0 0 0 4 0 0 0 0 0 0 0 0 0 0 0 0 0 0 0 0 0 0 0\n",
      " 0 0 0 0 0 0 0 0 0 9 0 0 0 0 3 1 2 6 0 0 0 0 0 0 0 0 0 0 0 0 0 0 0 0 7 0 0\n",
      " 5 0 0]\n"
     ]
    }
   ],
   "source": [
    "clusters, best_cut = spectral_clustering(adjacency_matrix, n=10)"
   ]
  },
  {
   "cell_type": "code",
   "execution_count": 161,
   "id": "aecd6854",
   "metadata": {},
   "outputs": [
    {
     "data": {
      "text/plain": [
       "(array([68.,  1.,  1.,  1.,  1.,  1.,  1.,  1.,  1.,  1.]),\n",
       " array([0. , 0.9, 1.8, 2.7, 3.6, 4.5, 5.4, 6.3, 7.2, 8.1, 9. ]),\n",
       " <BarContainer object of 10 artists>)"
      ]
     },
     "execution_count": 161,
     "metadata": {},
     "output_type": "execute_result"
    },
    {
     "data": {
      "image/png": "[encoded data removed]",
      "text/plain": [
       "<Figure size 1008x720 with 1 Axes>"
      ]
     },
     "metadata": {
      "needs_background": "light"
     },
     "output_type": "display_data"
    }
   ],
   "source": [
    "import matplotlib.pyplot as plt \n",
    "plt.hist(clusters)"
   ]
  },
  {
   "cell_type": "code",
   "execution_count": null,
   "id": "2dc687b2",
   "metadata": {},
   "outputs": [],
   "source": []
  }
 ],
 "metadata": {
  "kernelspec": {
   "display_name": "Python 3 (ipykernel)",
   "language": "python",
   "name": "python3"
  },
  "language_info": {
   "codemirror_mode": {
    "name": "ipython",
    "version": 3
   },
   "file_extension": ".py",
   "mimetype": "text/x-python",
   "name": "python",
   "nbconvert_exporter": "python",
   "pygments_lexer": "ipython3",
   "version": "3.10.2"
  }
 },
 "nbformat": 4,
 "nbformat_minor": 5
}
